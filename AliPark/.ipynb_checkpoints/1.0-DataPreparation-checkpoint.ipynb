{
 "cells": [
  {
   "cell_type": "code",
   "execution_count": 20,
   "id": "3471271d",
   "metadata": {},
   "outputs": [],
   "source": [
    "import numpy as np \n",
    "import pandas as pd \n",
    "import tensorflow as tf\n",
    "import datetime\n",
    "from sklearn.preprocessing import MinMaxScaler, StandardScaler, RobustScaler\n",
    "from tensorflow.keras.models import Sequential\n",
    "from tensorflow.keras.layers import Dense, LSTM, Dropout, RepeatVector, TimeDistributed\n",
    "from tensorflow.keras.optimizers import Adam\n",
    "import matplotlib.pyplot as plt"
   ]
  },
  {
   "cell_type": "code",
   "execution_count": 21,
   "id": "365bc5dc",
   "metadata": {},
   "outputs": [],
   "source": [
    "tf.random.set_seed(12345)"
   ]
  },
  {
   "cell_type": "code",
   "execution_count": 22,
   "id": "25c20349",
   "metadata": {
    "scrolled": true
   },
   "outputs": [],
   "source": [
    "df = pd.read_csv('alicante_Alipark_Flow.csv')"
   ]
  },
  {
   "cell_type": "code",
   "execution_count": 23,
   "id": "f02b5029",
   "metadata": {},
   "outputs": [
    {
     "data": {
      "text/html": [
       "<div>\n",
       "<style scoped>\n",
       "    .dataframe tbody tr th:only-of-type {\n",
       "        vertical-align: middle;\n",
       "    }\n",
       "\n",
       "    .dataframe tbody tr th {\n",
       "        vertical-align: top;\n",
       "    }\n",
       "\n",
       "    .dataframe thead th {\n",
       "        text-align: right;\n",
       "    }\n",
       "</style>\n",
       "<table border=\"1\" class=\"dataframe\">\n",
       "  <thead>\n",
       "    <tr style=\"text-align: right;\">\n",
       "      <th></th>\n",
       "      <th>time</th>\n",
       "      <th>value</th>\n",
       "    </tr>\n",
       "  </thead>\n",
       "  <tbody>\n",
       "    <tr>\n",
       "      <th>0</th>\n",
       "      <td>1.588284e+09</td>\n",
       "      <td>11.0</td>\n",
       "    </tr>\n",
       "    <tr>\n",
       "      <th>1</th>\n",
       "      <td>1.588286e+09</td>\n",
       "      <td>9.2</td>\n",
       "    </tr>\n",
       "    <tr>\n",
       "      <th>2</th>\n",
       "      <td>1.588288e+09</td>\n",
       "      <td>11.0</td>\n",
       "    </tr>\n",
       "    <tr>\n",
       "      <th>3</th>\n",
       "      <td>1.588289e+09</td>\n",
       "      <td>6.8</td>\n",
       "    </tr>\n",
       "    <tr>\n",
       "      <th>4</th>\n",
       "      <td>1.588291e+09</td>\n",
       "      <td>8.8</td>\n",
       "    </tr>\n",
       "    <tr>\n",
       "      <th>...</th>\n",
       "      <td>...</td>\n",
       "      <td>...</td>\n",
       "    </tr>\n",
       "    <tr>\n",
       "      <th>19465</th>\n",
       "      <td>1.625449e+09</td>\n",
       "      <td>5.4</td>\n",
       "    </tr>\n",
       "    <tr>\n",
       "      <th>19466</th>\n",
       "      <td>1.625450e+09</td>\n",
       "      <td>7.4</td>\n",
       "    </tr>\n",
       "    <tr>\n",
       "      <th>19467</th>\n",
       "      <td>1.625452e+09</td>\n",
       "      <td>12.4</td>\n",
       "    </tr>\n",
       "    <tr>\n",
       "      <th>19468</th>\n",
       "      <td>1.625454e+09</td>\n",
       "      <td>11.8</td>\n",
       "    </tr>\n",
       "    <tr>\n",
       "      <th>19469</th>\n",
       "      <td>1.625456e+09</td>\n",
       "      <td>10.6</td>\n",
       "    </tr>\n",
       "  </tbody>\n",
       "</table>\n",
       "<p>19470 rows × 2 columns</p>\n",
       "</div>"
      ],
      "text/plain": [
       "               time  value\n",
       "0      1.588284e+09   11.0\n",
       "1      1.588286e+09    9.2\n",
       "2      1.588288e+09   11.0\n",
       "3      1.588289e+09    6.8\n",
       "4      1.588291e+09    8.8\n",
       "...             ...    ...\n",
       "19465  1.625449e+09    5.4\n",
       "19466  1.625450e+09    7.4\n",
       "19467  1.625452e+09   12.4\n",
       "19468  1.625454e+09   11.8\n",
       "19469  1.625456e+09   10.6\n",
       "\n",
       "[19470 rows x 2 columns]"
      ]
     },
     "execution_count": 23,
     "metadata": {},
     "output_type": "execute_result"
    }
   ],
   "source": [
    "df"
   ]
  },
  {
   "cell_type": "code",
   "execution_count": 24,
   "id": "23a08c5d",
   "metadata": {},
   "outputs": [],
   "source": [
    "df = df.drop_duplicates(subset = 'time', keep='first')"
   ]
  },
  {
   "cell_type": "code",
   "execution_count": 25,
   "id": "8e4cf4c3",
   "metadata": {},
   "outputs": [],
   "source": [
    "df = df.reset_index(drop=True)"
   ]
  },
  {
   "cell_type": "code",
   "execution_count": 26,
   "id": "95f378b6",
   "metadata": {},
   "outputs": [],
   "source": [
    "Time = []\n",
    "\n",
    "for i in range(0, len(df)):\n",
    "    Time.append(datetime.datetime.fromtimestamp(df['time'][i]).strftime('%Y-%m-%d %H:%M:%S'))"
   ]
  },
  {
   "cell_type": "code",
   "execution_count": 27,
   "id": "be625096",
   "metadata": {},
   "outputs": [],
   "source": [
    "df['time'] = Time"
   ]
  },
  {
   "cell_type": "code",
   "execution_count": 28,
   "id": "f4c6026c",
   "metadata": {},
   "outputs": [
    {
     "data": {
      "text/plain": [
       "0"
      ]
     },
     "execution_count": 28,
     "metadata": {},
     "output_type": "execute_result"
    }
   ],
   "source": [
    "df['value'].isnull().sum()"
   ]
  },
  {
   "cell_type": "code",
   "execution_count": 29,
   "id": "6f2f5632",
   "metadata": {},
   "outputs": [],
   "source": [
    "df.columns = ['Time','Values']"
   ]
  },
  {
   "cell_type": "code",
   "execution_count": 30,
   "id": "3d478dc0",
   "metadata": {},
   "outputs": [
    {
     "data": {
      "text/html": [
       "<div>\n",
       "<style scoped>\n",
       "    .dataframe tbody tr th:only-of-type {\n",
       "        vertical-align: middle;\n",
       "    }\n",
       "\n",
       "    .dataframe tbody tr th {\n",
       "        vertical-align: top;\n",
       "    }\n",
       "\n",
       "    .dataframe thead th {\n",
       "        text-align: right;\n",
       "    }\n",
       "</style>\n",
       "<table border=\"1\" class=\"dataframe\">\n",
       "  <thead>\n",
       "    <tr style=\"text-align: right;\">\n",
       "      <th></th>\n",
       "      <th>Time</th>\n",
       "      <th>Values</th>\n",
       "    </tr>\n",
       "  </thead>\n",
       "  <tbody>\n",
       "    <tr>\n",
       "      <th>0</th>\n",
       "      <td>2020-04-30 22:00:00</td>\n",
       "      <td>11.0</td>\n",
       "    </tr>\n",
       "    <tr>\n",
       "      <th>1</th>\n",
       "      <td>2020-04-30 22:30:00</td>\n",
       "      <td>9.2</td>\n",
       "    </tr>\n",
       "    <tr>\n",
       "      <th>2</th>\n",
       "      <td>2020-04-30 23:00:00</td>\n",
       "      <td>11.0</td>\n",
       "    </tr>\n",
       "    <tr>\n",
       "      <th>3</th>\n",
       "      <td>2020-04-30 23:30:00</td>\n",
       "      <td>6.8</td>\n",
       "    </tr>\n",
       "    <tr>\n",
       "      <th>4</th>\n",
       "      <td>2020-05-01 00:00:00</td>\n",
       "      <td>8.8</td>\n",
       "    </tr>\n",
       "    <tr>\n",
       "      <th>...</th>\n",
       "      <td>...</td>\n",
       "      <td>...</td>\n",
       "    </tr>\n",
       "    <tr>\n",
       "      <th>19417</th>\n",
       "      <td>2021-07-05 01:30:00</td>\n",
       "      <td>5.4</td>\n",
       "    </tr>\n",
       "    <tr>\n",
       "      <th>19418</th>\n",
       "      <td>2021-07-05 02:00:00</td>\n",
       "      <td>7.4</td>\n",
       "    </tr>\n",
       "    <tr>\n",
       "      <th>19419</th>\n",
       "      <td>2021-07-05 02:30:00</td>\n",
       "      <td>12.4</td>\n",
       "    </tr>\n",
       "    <tr>\n",
       "      <th>19420</th>\n",
       "      <td>2021-07-05 03:00:00</td>\n",
       "      <td>11.8</td>\n",
       "    </tr>\n",
       "    <tr>\n",
       "      <th>19421</th>\n",
       "      <td>2021-07-05 03:30:00</td>\n",
       "      <td>10.6</td>\n",
       "    </tr>\n",
       "  </tbody>\n",
       "</table>\n",
       "<p>19422 rows × 2 columns</p>\n",
       "</div>"
      ],
      "text/plain": [
       "                      Time  Values\n",
       "0      2020-04-30 22:00:00    11.0\n",
       "1      2020-04-30 22:30:00     9.2\n",
       "2      2020-04-30 23:00:00    11.0\n",
       "3      2020-04-30 23:30:00     6.8\n",
       "4      2020-05-01 00:00:00     8.8\n",
       "...                    ...     ...\n",
       "19417  2021-07-05 01:30:00     5.4\n",
       "19418  2021-07-05 02:00:00     7.4\n",
       "19419  2021-07-05 02:30:00    12.4\n",
       "19420  2021-07-05 03:00:00    11.8\n",
       "19421  2021-07-05 03:30:00    10.6\n",
       "\n",
       "[19422 rows x 2 columns]"
      ]
     },
     "execution_count": 30,
     "metadata": {},
     "output_type": "execute_result"
    }
   ],
   "source": [
    "df"
   ]
  },
  {
   "cell_type": "code",
   "execution_count": 31,
   "id": "c2590496",
   "metadata": {},
   "outputs": [],
   "source": [
    "df.to_csv('data_alipark.csv')"
   ]
  },
  {
   "cell_type": "code",
   "execution_count": 32,
   "id": "5b49c4e2",
   "metadata": {},
   "outputs": [
    {
     "data": {
      "text/plain": [
       "0"
      ]
     },
     "execution_count": 32,
     "metadata": {},
     "output_type": "execute_result"
    }
   ],
   "source": [
    "df['Values'].isnull().sum()"
   ]
  },
  {
   "cell_type": "code",
   "execution_count": 33,
   "id": "47f49795",
   "metadata": {},
   "outputs": [],
   "source": [
    "Values = df['Values'].values"
   ]
  },
  {
   "cell_type": "code",
   "execution_count": 34,
   "id": "5d67a101",
   "metadata": {},
   "outputs": [
    {
     "data": {
      "text/plain": [
       "(19422,)"
      ]
     },
     "execution_count": 34,
     "metadata": {},
     "output_type": "execute_result"
    }
   ],
   "source": [
    "Values.shape"
   ]
  },
  {
   "cell_type": "code",
   "execution_count": 35,
   "id": "8ff318e2",
   "metadata": {},
   "outputs": [],
   "source": [
    "import numpy.ma as ma"
   ]
  },
  {
   "cell_type": "code",
   "execution_count": 36,
   "id": "2bd9529a",
   "metadata": {},
   "outputs": [],
   "source": [
    "X = ma.masked_invalid(Values).reshape(-1,1)\n",
    "X[X==0]=ma.masked"
   ]
  },
  {
   "cell_type": "code",
   "execution_count": 37,
   "id": "cc29db17",
   "metadata": {},
   "outputs": [
    {
     "data": {
      "text/plain": [
       "1.6"
      ]
     },
     "execution_count": 37,
     "metadata": {},
     "output_type": "execute_result"
    }
   ],
   "source": [
    "X.min()"
   ]
  },
  {
   "cell_type": "code",
   "execution_count": 38,
   "id": "c28548c6",
   "metadata": {},
   "outputs": [],
   "source": [
    "from sklearn.preprocessing import MinMaxScaler\n",
    "# Function for Scaler Application\n",
    "def Scaler(X):\n",
    "    minX = X.min()\n",
    "    X+=minX\n",
    "    maxX = X.max()\n",
    "    X = X/maxX\n",
    "    return minX,maxX,X"
   ]
  },
  {
   "cell_type": "code",
   "execution_count": 39,
   "id": "86b5d13f",
   "metadata": {},
   "outputs": [],
   "source": [
    "minX,maxX,scaled_x = Scaler(ma.compress_rows(X))"
   ]
  },
  {
   "cell_type": "code",
   "execution_count": 40,
   "id": "4c555e7a",
   "metadata": {
    "scrolled": true
   },
   "outputs": [
    {
     "data": {
      "text/plain": [
       "1.0"
      ]
     },
     "execution_count": 40,
     "metadata": {},
     "output_type": "execute_result"
    }
   ],
   "source": [
    "scaled_x.max()"
   ]
  },
  {
   "cell_type": "code",
   "execution_count": 41,
   "id": "ae37c96c",
   "metadata": {},
   "outputs": [
    {
     "data": {
      "text/plain": [
       "masked_array(\n",
       "  data=[[4.4],\n",
       "        [4.2],\n",
       "        [3.6],\n",
       "        [4.4],\n",
       "        [4.8],\n",
       "        [6.2],\n",
       "        [5.8],\n",
       "        [10.4],\n",
       "        [12.8],\n",
       "        [16.0],\n",
       "        [20.8],\n",
       "        [24.2],\n",
       "        [26.8],\n",
       "        [26.2],\n",
       "        [24.0],\n",
       "        [24.2],\n",
       "        [24.4],\n",
       "        [25.2],\n",
       "        [21.8],\n",
       "        [22.0],\n",
       "        [24.0],\n",
       "        [20.4],\n",
       "        [21.8],\n",
       "        [22.0],\n",
       "        [20.0],\n",
       "        [17.2],\n",
       "        [19.0],\n",
       "        [17.0],\n",
       "        [22.4],\n",
       "        [18.2],\n",
       "        [17.4],\n",
       "        [19.2],\n",
       "        [17.8],\n",
       "        [21.8],\n",
       "        [19.2],\n",
       "        [17.8],\n",
       "        [19.0],\n",
       "        [18.0],\n",
       "        [18.4],\n",
       "        [16.2],\n",
       "        [16.4],\n",
       "        [14.0],\n",
       "        [11.6],\n",
       "        [9.4],\n",
       "        [8.8],\n",
       "        [6.8],\n",
       "        [6.6],\n",
       "        [10.2],\n",
       "        [7.2],\n",
       "        [7.8],\n",
       "        [7.6],\n",
       "        [7.6],\n",
       "        [5.8],\n",
       "        [7.0],\n",
       "        [5.8],\n",
       "        [8.4],\n",
       "        [10.8],\n",
       "        [15.4],\n",
       "        [15.8],\n",
       "        [19.8],\n",
       "        [23.6],\n",
       "        [25.6],\n",
       "        [22.6],\n",
       "        [21.2],\n",
       "        [26.6],\n",
       "        [26.6],\n",
       "        [24.0],\n",
       "        [26.4],\n",
       "        [21.4],\n",
       "        [24.0],\n",
       "        [22.4],\n",
       "        [21.2],\n",
       "        [17.4],\n",
       "        [18.8],\n",
       "        [17.4],\n",
       "        [16.8],\n",
       "        [19.8],\n",
       "        [18.2],\n",
       "        [21.2],\n",
       "        [19.0],\n",
       "        [18.6],\n",
       "        [25.0],\n",
       "        [22.2],\n",
       "        [21.4],\n",
       "        [21.6],\n",
       "        [19.4],\n",
       "        [16.6],\n",
       "        [15.0],\n",
       "        [14.6],\n",
       "        [12.6],\n",
       "        [10.2],\n",
       "        [8.4],\n",
       "        [6.2],\n",
       "        [7.2],\n",
       "        [8.4],\n",
       "        [5.4],\n",
       "        [7.4],\n",
       "        [12.4],\n",
       "        [11.8],\n",
       "        [10.6]],\n",
       "  mask=[[False],\n",
       "        [False],\n",
       "        [False],\n",
       "        [False],\n",
       "        [False],\n",
       "        [False],\n",
       "        [False],\n",
       "        [False],\n",
       "        [False],\n",
       "        [False],\n",
       "        [False],\n",
       "        [False],\n",
       "        [False],\n",
       "        [False],\n",
       "        [False],\n",
       "        [False],\n",
       "        [False],\n",
       "        [False],\n",
       "        [False],\n",
       "        [False],\n",
       "        [False],\n",
       "        [False],\n",
       "        [False],\n",
       "        [False],\n",
       "        [False],\n",
       "        [False],\n",
       "        [False],\n",
       "        [False],\n",
       "        [False],\n",
       "        [False],\n",
       "        [False],\n",
       "        [False],\n",
       "        [False],\n",
       "        [False],\n",
       "        [False],\n",
       "        [False],\n",
       "        [False],\n",
       "        [False],\n",
       "        [False],\n",
       "        [False],\n",
       "        [False],\n",
       "        [False],\n",
       "        [False],\n",
       "        [False],\n",
       "        [False],\n",
       "        [False],\n",
       "        [False],\n",
       "        [False],\n",
       "        [False],\n",
       "        [False],\n",
       "        [False],\n",
       "        [False],\n",
       "        [False],\n",
       "        [False],\n",
       "        [False],\n",
       "        [False],\n",
       "        [False],\n",
       "        [False],\n",
       "        [False],\n",
       "        [False],\n",
       "        [False],\n",
       "        [False],\n",
       "        [False],\n",
       "        [False],\n",
       "        [False],\n",
       "        [False],\n",
       "        [False],\n",
       "        [False],\n",
       "        [False],\n",
       "        [False],\n",
       "        [False],\n",
       "        [False],\n",
       "        [False],\n",
       "        [False],\n",
       "        [False],\n",
       "        [False],\n",
       "        [False],\n",
       "        [False],\n",
       "        [False],\n",
       "        [False],\n",
       "        [False],\n",
       "        [False],\n",
       "        [False],\n",
       "        [False],\n",
       "        [False],\n",
       "        [False],\n",
       "        [False],\n",
       "        [False],\n",
       "        [False],\n",
       "        [False],\n",
       "        [False],\n",
       "        [False],\n",
       "        [False],\n",
       "        [False],\n",
       "        [False],\n",
       "        [False],\n",
       "        [False],\n",
       "        [False],\n",
       "        [False],\n",
       "        [False]],\n",
       "  fill_value=1e+20)"
      ]
     },
     "execution_count": 41,
     "metadata": {},
     "output_type": "execute_result"
    }
   ],
   "source": [
    "X[-100:]"
   ]
  },
  {
   "cell_type": "code",
   "execution_count": 42,
   "id": "e9fb7c64",
   "metadata": {},
   "outputs": [
    {
     "data": {
      "text/plain": [
       "0.04347826086956522"
      ]
     },
     "execution_count": 42,
     "metadata": {},
     "output_type": "execute_result"
    }
   ],
   "source": [
    "scaled_x.min()"
   ]
  },
  {
   "cell_type": "code",
   "execution_count": 43,
   "id": "62263b44",
   "metadata": {
    "scrolled": true
   },
   "outputs": [
    {
     "data": {
      "image/png": "[encoded data removed]",
      "text/plain": [
       "<Figure size 432x288 with 1 Axes>"
      ]
     },
     "metadata": {
      "needs_background": "light"
     },
     "output_type": "display_data"
    }
   ],
   "source": [
    "plt.plot(scaled_x)\n",
    "plt.show()"
   ]
  },
  {
   "cell_type": "code",
   "execution_count": 44,
   "id": "b335c59c",
   "metadata": {},
   "outputs": [
    {
     "data": {
      "text/plain": [
       "array([[11. ],\n",
       "       [ 9.2],\n",
       "       [11. ],\n",
       "       ...,\n",
       "       [12.4],\n",
       "       [11.8],\n",
       "       [10.6]])"
      ]
     },
     "execution_count": 44,
     "metadata": {},
     "output_type": "execute_result"
    }
   ],
   "source": [
    "scaled_x*maxX-minX"
   ]
  },
  {
   "cell_type": "code",
   "execution_count": 45,
   "id": "843c1dfd",
   "metadata": {},
   "outputs": [],
   "source": [
    "scaled_X = ma.zeros(X.shape)\n",
    "scaled_X[~X.mask[:,0]] = scaled_x\n",
    "scaled_X[X.mask] = ma.masked\n"
   ]
  },
  {
   "cell_type": "code",
   "execution_count": 46,
   "id": "4aeaf7e1",
   "metadata": {},
   "outputs": [],
   "source": [
    "import h5py"
   ]
  },
  {
   "cell_type": "code",
   "execution_count": 47,
   "id": "f6c6486f",
   "metadata": {},
   "outputs": [],
   "source": [
    "f = h5py.File(\"alipark_processed_data.h5\",\"w\")\n",
    "v_ = f.create_dataset(\"raw_values\",shape=Values.shape,dtype=\"float\")\n",
    "v_[...] = Values\n",
    "\n",
    "x_ = f.create_dataset(\"scaled_x\",shape=scaled_X.shape,dtype=\"float\")\n",
    "x_[...] = scaled_X\n",
    "\n",
    "minx_ = f.create_dataset(\"minX\",shape=(1,),dtype=\"float\")\n",
    "minx_[...] = minX\n",
    "\n",
    "maxx_ = f.create_dataset(\"maxX\",shape=(1,),dtype=\"float\")\n",
    "maxx_[...] = maxX\n",
    "\n",
    "\n",
    "x_mask = f.create_dataset(\"x_mask\",shape=scaled_X.shape,dtype=\"Bool\")\n",
    "x_mask[...] = scaled_X.mask\n",
    "\n",
    "f.close()"
   ]
  },
  {
   "cell_type": "code",
   "execution_count": 48,
   "id": "178d929a",
   "metadata": {},
   "outputs": [],
   "source": [
    "f = h5py.File(\"alipark_processed_data.h5\",\"r\")\n",
    "scaled_X_ = ma.array(f[\"scaled_x\"])\n",
    "scaled_X_.mask = ma.array(f[\"x_mask\"])\n",
    "f.close()"
   ]
  },
  {
   "cell_type": "code",
   "execution_count": 49,
   "id": "59cc7a11",
   "metadata": {},
   "outputs": [],
   "source": [
    "import matplotlib.pyplot as plt"
   ]
  },
  {
   "cell_type": "code",
   "execution_count": 50,
   "id": "f50584c7",
   "metadata": {},
   "outputs": [
    {
     "data": {
      "image/png": "[encoded data removed]",
      "text/plain": [
       "<Figure size 432x288 with 1 Axes>"
      ]
     },
     "metadata": {
      "needs_background": "light"
     },
     "output_type": "display_data"
    }
   ],
   "source": [
    "plt.plot(scaled_X_[:500])\n",
    "plt.plot(scaled_X[:500])\n",
    "plt.show()"
   ]
  },
  {
   "cell_type": "code",
   "execution_count": 1,
   "id": "3021a34f",
   "metadata": {},
   "outputs": [],
   "source": [
    "import re #python regular expression matching module\n",
    "script = re.sub(r'# In\\[.*\\]:\\n','',open('1.0-DataPreparation.py').read())\n",
    "with open('1.0-DataPreparationScript.py','w') as fh:\n",
    "    fh.write(script)"
   ]
  },
  {
   "cell_type": "code",
   "execution_count": null,
   "id": "a42614a4",
   "metadata": {},
   "outputs": [],
   "source": []
  }
 ],
 "metadata": {
  "kernelspec": {
   "display_name": "Python 3",
   "language": "python",
   "name": "python3"
  },
  "language_info": {
   "codemirror_mode": {
    "name": "ipython",
    "version": 3
   },
   "file_extension": ".py",
   "mimetype": "text/x-python",
   "name": "python",
   "nbconvert_exporter": "python",
   "pygments_lexer": "ipython3",
   "version": "3.8.10"
  }
 },
 "nbformat": 4,
 "nbformat_minor": 5
}
