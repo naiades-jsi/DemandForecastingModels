{
 "cells": [
  {
   "cell_type": "code",
   "execution_count": 1,
   "id": "3471271d",
   "metadata": {},
   "outputs": [],
   "source": [
    "import numpy as np \n",
    "import pandas as pd \n",
    "import tensorflow as tf\n",
    "import datetime\n",
    "from sklearn.preprocessing import MinMaxScaler, StandardScaler, RobustScaler\n",
    "from tensorflow.keras.models import Sequential\n",
    "from tensorflow.keras.layers import Dense, LSTM, Dropout, RepeatVector, TimeDistributed\n",
    "from tensorflow.keras.optimizers import Adam\n",
    "import matplotlib.pyplot as plt"
   ]
  },
  {
   "cell_type": "code",
   "execution_count": 2,
   "id": "365bc5dc",
   "metadata": {},
   "outputs": [],
   "source": [
    "tf.random.set_seed(12345)"
   ]
  },
  {
   "cell_type": "code",
   "execution_count": 3,
   "id": "25c20349",
   "metadata": {
    "scrolled": true
   },
   "outputs": [],
   "source": [
    "df = pd.read_csv('alicante_Benalua_Flow.csv')"
   ]
  },
  {
   "cell_type": "code",
   "execution_count": 4,
   "id": "f02b5029",
   "metadata": {},
   "outputs": [
    {
     "data": {
      "text/html": [
       "<div>\n",
       "<style scoped>\n",
       "    .dataframe tbody tr th:only-of-type {\n",
       "        vertical-align: middle;\n",
       "    }\n",
       "\n",
       "    .dataframe tbody tr th {\n",
       "        vertical-align: top;\n",
       "    }\n",
       "\n",
       "    .dataframe thead th {\n",
       "        text-align: right;\n",
       "    }\n",
       "</style>\n",
       "<table border=\"1\" class=\"dataframe\">\n",
       "  <thead>\n",
       "    <tr style=\"text-align: right;\">\n",
       "      <th></th>\n",
       "      <th>time</th>\n",
       "      <th>value</th>\n",
       "    </tr>\n",
       "  </thead>\n",
       "  <tbody>\n",
       "    <tr>\n",
       "      <th>0</th>\n",
       "      <td>1.588284e+09</td>\n",
       "      <td>3144.0732</td>\n",
       "    </tr>\n",
       "    <tr>\n",
       "      <th>1</th>\n",
       "      <td>1.588284e+09</td>\n",
       "      <td>3144.0732</td>\n",
       "    </tr>\n",
       "    <tr>\n",
       "      <th>2</th>\n",
       "      <td>1.588284e+09</td>\n",
       "      <td>3144.0732</td>\n",
       "    </tr>\n",
       "    <tr>\n",
       "      <th>3</th>\n",
       "      <td>1.588284e+09</td>\n",
       "      <td>3559.0295</td>\n",
       "    </tr>\n",
       "    <tr>\n",
       "      <th>4</th>\n",
       "      <td>1.588284e+09</td>\n",
       "      <td>3559.0295</td>\n",
       "    </tr>\n",
       "    <tr>\n",
       "      <th>...</th>\n",
       "      <td>...</td>\n",
       "      <td>...</td>\n",
       "    </tr>\n",
       "    <tr>\n",
       "      <th>1221806</th>\n",
       "      <td>1.625695e+09</td>\n",
       "      <td>4296.8726</td>\n",
       "    </tr>\n",
       "    <tr>\n",
       "      <th>1221807</th>\n",
       "      <td>1.625695e+09</td>\n",
       "      <td>4438.2734</td>\n",
       "    </tr>\n",
       "    <tr>\n",
       "      <th>1221808</th>\n",
       "      <td>1.625695e+09</td>\n",
       "      <td>3881.1240</td>\n",
       "    </tr>\n",
       "    <tr>\n",
       "      <th>1221809</th>\n",
       "      <td>1.625695e+09</td>\n",
       "      <td>4290.6060</td>\n",
       "    </tr>\n",
       "    <tr>\n",
       "      <th>1221810</th>\n",
       "      <td>1.625695e+09</td>\n",
       "      <td>4083.1392</td>\n",
       "    </tr>\n",
       "  </tbody>\n",
       "</table>\n",
       "<p>1221811 rows × 2 columns</p>\n",
       "</div>"
      ],
      "text/plain": [
       "                 time      value\n",
       "0        1.588284e+09  3144.0732\n",
       "1        1.588284e+09  3144.0732\n",
       "2        1.588284e+09  3144.0732\n",
       "3        1.588284e+09  3559.0295\n",
       "4        1.588284e+09  3559.0295\n",
       "...               ...        ...\n",
       "1221806  1.625695e+09  4296.8726\n",
       "1221807  1.625695e+09  4438.2734\n",
       "1221808  1.625695e+09  3881.1240\n",
       "1221809  1.625695e+09  4290.6060\n",
       "1221810  1.625695e+09  4083.1392\n",
       "\n",
       "[1221811 rows x 2 columns]"
      ]
     },
     "execution_count": 4,
     "metadata": {},
     "output_type": "execute_result"
    }
   ],
   "source": [
    "df"
   ]
  },
  {
   "cell_type": "code",
   "execution_count": 5,
   "id": "23a08c5d",
   "metadata": {},
   "outputs": [],
   "source": [
    "df = df.drop_duplicates(subset = 'time', keep='first')"
   ]
  },
  {
   "cell_type": "code",
   "execution_count": 6,
   "id": "8e4cf4c3",
   "metadata": {},
   "outputs": [],
   "source": [
    "df = df.reset_index(drop=True)"
   ]
  },
  {
   "cell_type": "code",
   "execution_count": 7,
   "id": "95f378b6",
   "metadata": {},
   "outputs": [],
   "source": [
    "Time = []\n",
    "\n",
    "for i in range(0, len(df)):\n",
    "    Time.append(datetime.datetime.fromtimestamp(df['time'][i]).strftime('%Y-%m-%d %H:%M:%S'))"
   ]
  },
  {
   "cell_type": "code",
   "execution_count": 8,
   "id": "be625096",
   "metadata": {},
   "outputs": [],
   "source": [
    "df['time'] = Time"
   ]
  },
  {
   "cell_type": "code",
   "execution_count": 9,
   "id": "f4c6026c",
   "metadata": {},
   "outputs": [
    {
     "data": {
      "text/plain": [
       "0"
      ]
     },
     "execution_count": 9,
     "metadata": {},
     "output_type": "execute_result"
    }
   ],
   "source": [
    "df['value'].isnull().sum()"
   ]
  },
  {
   "cell_type": "code",
   "execution_count": 10,
   "id": "6f2f5632",
   "metadata": {},
   "outputs": [],
   "source": [
    "df.columns = ['Time','Values']"
   ]
  },
  {
   "cell_type": "code",
   "execution_count": 11,
   "id": "3d478dc0",
   "metadata": {},
   "outputs": [
    {
     "data": {
      "text/html": [
       "<div>\n",
       "<style scoped>\n",
       "    .dataframe tbody tr th:only-of-type {\n",
       "        vertical-align: middle;\n",
       "    }\n",
       "\n",
       "    .dataframe tbody tr th {\n",
       "        vertical-align: top;\n",
       "    }\n",
       "\n",
       "    .dataframe thead th {\n",
       "        text-align: right;\n",
       "    }\n",
       "</style>\n",
       "<table border=\"1\" class=\"dataframe\">\n",
       "  <thead>\n",
       "    <tr style=\"text-align: right;\">\n",
       "      <th></th>\n",
       "      <th>Time</th>\n",
       "      <th>Values</th>\n",
       "    </tr>\n",
       "  </thead>\n",
       "  <tbody>\n",
       "    <tr>\n",
       "      <th>0</th>\n",
       "      <td>2020-04-30 22:00:00</td>\n",
       "      <td>3144.0732</td>\n",
       "    </tr>\n",
       "    <tr>\n",
       "      <th>1</th>\n",
       "      <td>2020-04-30 22:00:31</td>\n",
       "      <td>3559.0295</td>\n",
       "    </tr>\n",
       "    <tr>\n",
       "      <th>2</th>\n",
       "      <td>2020-04-30 22:01:02</td>\n",
       "      <td>3829.3477</td>\n",
       "    </tr>\n",
       "    <tr>\n",
       "      <th>3</th>\n",
       "      <td>2020-04-30 22:01:32</td>\n",
       "      <td>3463.5396</td>\n",
       "    </tr>\n",
       "    <tr>\n",
       "      <th>4</th>\n",
       "      <td>2020-04-30 22:02:03</td>\n",
       "      <td>3394.2815</td>\n",
       "    </tr>\n",
       "    <tr>\n",
       "      <th>...</th>\n",
       "      <td>...</td>\n",
       "      <td>...</td>\n",
       "    </tr>\n",
       "    <tr>\n",
       "      <th>1213333</th>\n",
       "      <td>2021-07-07 21:57:02</td>\n",
       "      <td>4296.8726</td>\n",
       "    </tr>\n",
       "    <tr>\n",
       "      <th>1213334</th>\n",
       "      <td>2021-07-07 21:57:32</td>\n",
       "      <td>4438.2734</td>\n",
       "    </tr>\n",
       "    <tr>\n",
       "      <th>1213335</th>\n",
       "      <td>2021-07-07 21:58:02</td>\n",
       "      <td>3881.1240</td>\n",
       "    </tr>\n",
       "    <tr>\n",
       "      <th>1213336</th>\n",
       "      <td>2021-07-07 21:58:32</td>\n",
       "      <td>4290.6060</td>\n",
       "    </tr>\n",
       "    <tr>\n",
       "      <th>1213337</th>\n",
       "      <td>2021-07-07 21:59:02</td>\n",
       "      <td>4083.1392</td>\n",
       "    </tr>\n",
       "  </tbody>\n",
       "</table>\n",
       "<p>1213338 rows × 2 columns</p>\n",
       "</div>"
      ],
      "text/plain": [
       "                        Time     Values\n",
       "0        2020-04-30 22:00:00  3144.0732\n",
       "1        2020-04-30 22:00:31  3559.0295\n",
       "2        2020-04-30 22:01:02  3829.3477\n",
       "3        2020-04-30 22:01:32  3463.5396\n",
       "4        2020-04-30 22:02:03  3394.2815\n",
       "...                      ...        ...\n",
       "1213333  2021-07-07 21:57:02  4296.8726\n",
       "1213334  2021-07-07 21:57:32  4438.2734\n",
       "1213335  2021-07-07 21:58:02  3881.1240\n",
       "1213336  2021-07-07 21:58:32  4290.6060\n",
       "1213337  2021-07-07 21:59:02  4083.1392\n",
       "\n",
       "[1213338 rows x 2 columns]"
      ]
     },
     "execution_count": 11,
     "metadata": {},
     "output_type": "execute_result"
    }
   ],
   "source": [
    "df"
   ]
  },
  {
   "cell_type": "code",
   "execution_count": 18,
   "id": "b924e111",
   "metadata": {},
   "outputs": [],
   "source": [
    "df['Time'] = pd.to_datetime(df['Time'])\n",
    "df1 = df.set_index('Time')\n",
    "Min_summary = df1.resample('30T').mean()"
   ]
  },
  {
   "cell_type": "code",
   "execution_count": 19,
   "id": "d2c78478",
   "metadata": {},
   "outputs": [],
   "source": [
    "index = np.arange(len(Min_summary))"
   ]
  },
  {
   "cell_type": "code",
   "execution_count": 20,
   "id": "2f75027d",
   "metadata": {},
   "outputs": [],
   "source": [
    "df = pd.DataFrame({\n",
    "    'Time':Min_summary.index,\n",
    "    'Values':Min_summary['Values']\n",
    "})"
   ]
  },
  {
   "cell_type": "code",
   "execution_count": 21,
   "id": "d83c9114",
   "metadata": {},
   "outputs": [],
   "source": [
    "df.index = index"
   ]
  },
  {
   "cell_type": "code",
   "execution_count": 22,
   "id": "c2590496",
   "metadata": {},
   "outputs": [],
   "source": [
    "df.to_csv('data_benalua.csv')"
   ]
  },
  {
   "cell_type": "code",
   "execution_count": 23,
   "id": "5b49c4e2",
   "metadata": {},
   "outputs": [
    {
     "data": {
      "text/plain": [
       "146"
      ]
     },
     "execution_count": 23,
     "metadata": {},
     "output_type": "execute_result"
    }
   ],
   "source": [
    "df['Values'].isnull().sum()"
   ]
  },
  {
   "cell_type": "code",
   "execution_count": 24,
   "id": "47f49795",
   "metadata": {},
   "outputs": [],
   "source": [
    "Values = df['Values'].values"
   ]
  },
  {
   "cell_type": "code",
   "execution_count": 25,
   "id": "5d67a101",
   "metadata": {},
   "outputs": [
    {
     "data": {
      "text/plain": [
       "(20784,)"
      ]
     },
     "execution_count": 25,
     "metadata": {},
     "output_type": "execute_result"
    }
   ],
   "source": [
    "Values.shape"
   ]
  },
  {
   "cell_type": "code",
   "execution_count": 26,
   "id": "8ff318e2",
   "metadata": {},
   "outputs": [],
   "source": [
    "import numpy.ma as ma"
   ]
  },
  {
   "cell_type": "code",
   "execution_count": 27,
   "id": "2bd9529a",
   "metadata": {},
   "outputs": [],
   "source": [
    "X = ma.masked_invalid(Values).reshape(-1,1)\n",
    "X[X==0]=ma.masked"
   ]
  },
  {
   "cell_type": "code",
   "execution_count": 28,
   "id": "cc29db17",
   "metadata": {},
   "outputs": [
    {
     "data": {
      "text/plain": [
       "993.7120051666666"
      ]
     },
     "execution_count": 28,
     "metadata": {},
     "output_type": "execute_result"
    }
   ],
   "source": [
    "X.min()"
   ]
  },
  {
   "cell_type": "code",
   "execution_count": 29,
   "id": "c28548c6",
   "metadata": {},
   "outputs": [],
   "source": [
    "from sklearn.preprocessing import MinMaxScaler\n",
    "# Function for Scaler Application\n",
    "def Scaler(X):\n",
    "    #scaler = MinMaxScaler()\n",
    "    # Fit Scaler\n",
    "    #scaler_X = scaler.fit(X)\n",
    "    # Transform Data\n",
    "    #X_ = scaler_X.transform(X)\n",
    "    minX = X.min()\n",
    "    X+=minX\n",
    "    maxX = X.max()\n",
    "    X = X/maxX\n",
    "    return minX,maxX,X"
   ]
  },
  {
   "cell_type": "code",
   "execution_count": 30,
   "id": "86b5d13f",
   "metadata": {},
   "outputs": [],
   "source": [
    "minX,maxX,scaled_x = Scaler(ma.compress_rows(X))"
   ]
  },
  {
   "cell_type": "code",
   "execution_count": 31,
   "id": "4c555e7a",
   "metadata": {
    "scrolled": true
   },
   "outputs": [
    {
     "data": {
      "text/plain": [
       "1.0"
      ]
     },
     "execution_count": 31,
     "metadata": {},
     "output_type": "execute_result"
    }
   ],
   "source": [
    "scaled_x.max()"
   ]
  },
  {
   "cell_type": "code",
   "execution_count": 32,
   "id": "ae37c96c",
   "metadata": {},
   "outputs": [
    {
     "data": {
      "text/plain": [
       "masked_array(\n",
       "  data=[[6451.09823],\n",
       "        [5605.360154999999],\n",
       "        [4623.386348333334],\n",
       "        [4550.909651666666],\n",
       "        [4045.0053433333337],\n",
       "        [3574.078261666667],\n",
       "        [3261.8689350000004],\n",
       "        [2121.168581666667],\n",
       "        [1933.0603683333334],\n",
       "        [1838.518983333333],\n",
       "        [1617.9807666666668],\n",
       "        [1595.6707166666663],\n",
       "        [1501.3707844444446],\n",
       "        [1612.561455],\n",
       "        [2674.1987683333336],\n",
       "        [2732.2483766666674],\n",
       "        [3073.8175633333335],\n",
       "        [3502.605041666667],\n",
       "        [4947.6361966666655],\n",
       "        [6522.839618333334],\n",
       "        [7205.952275000001],\n",
       "        [7992.85963],\n",
       "        [8609.540058333334],\n",
       "        [7924.416659999998],\n",
       "        [8126.135458333332],\n",
       "        [8191.85883],\n",
       "        [7360.539091666666],\n",
       "        [7267.094],\n",
       "        [7403.206884999998],\n",
       "        [6784.075675000001],\n",
       "        [6791.271309999999],\n",
       "        [6994.96507],\n",
       "        [7230.405998333334],\n",
       "        [7386.766774999998],\n",
       "        [7847.8859466666645],\n",
       "        [6262.231604999999],\n",
       "        [6460.505850000001],\n",
       "        [5619.699054999999],\n",
       "        [5879.942971666667],\n",
       "        [5861.286075],\n",
       "        [5849.588555000001],\n",
       "        [6223.487696666666],\n",
       "        [6039.259551666669],\n",
       "        [5892.488173333334],\n",
       "        [6198.332011666666],\n",
       "        [6499.699171666667],\n",
       "        [5880.961831666668],\n",
       "        [6080.321098333333],\n",
       "        [5502.427906666667],\n",
       "        [4874.569690000001],\n",
       "        [4365.409021666668],\n",
       "        [4826.725268333335],\n",
       "        [4754.262921666666],\n",
       "        [3518.862196666667],\n",
       "        [3222.0698833333327],\n",
       "        [2212.0570766666665],\n",
       "        [1914.1199283333333],\n",
       "        [1590.6252975],\n",
       "        [1492.2238233333335],\n",
       "        [1429.883155],\n",
       "        [1401.7825916666668],\n",
       "        [1287.551576666667],\n",
       "        [1426.0528733333333],\n",
       "        [1485.7625088888888],\n",
       "        [2104.8826027777777],\n",
       "        [3264.965903333333],\n",
       "        [5233.803957777778],\n",
       "        [6921.8918583333325],\n",
       "        [7130.178453333333],\n",
       "        [7859.441783333334],\n",
       "        [7948.784929999999],\n",
       "        [7922.8111383333335],\n",
       "        [8267.848798333334],\n",
       "        [8299.769743333332],\n",
       "        [7651.238719999999],\n",
       "        [7724.348638333335],\n",
       "        [7424.193763333334],\n",
       "        [7318.261728333334],\n",
       "        [6882.347753333333],\n",
       "        [7497.930504999999],\n",
       "        [7214.998108333334],\n",
       "        [7019.966516666667],\n",
       "        [6935.6605316666655],\n",
       "        [6392.724791666666],\n",
       "        [6128.923041666667],\n",
       "        [6058.124906666665],\n",
       "        [5468.155701666667],\n",
       "        [5136.608241666667],\n",
       "        [5050.367156666666],\n",
       "        [5296.04949],\n",
       "        [5489.21295],\n",
       "        [5448.921959999999],\n",
       "        [5466.052268333334],\n",
       "        [6646.216300000001],\n",
       "        [6180.071119999999],\n",
       "        [6095.071145],\n",
       "        [5882.882571666667],\n",
       "        [5227.787378333334],\n",
       "        [4687.749001666666],\n",
       "        [4531.192553333333]],\n",
       "  mask=[[False],\n",
       "        [False],\n",
       "        [False],\n",
       "        [False],\n",
       "        [False],\n",
       "        [False],\n",
       "        [False],\n",
       "        [False],\n",
       "        [False],\n",
       "        [False],\n",
       "        [False],\n",
       "        [False],\n",
       "        [False],\n",
       "        [False],\n",
       "        [False],\n",
       "        [False],\n",
       "        [False],\n",
       "        [False],\n",
       "        [False],\n",
       "        [False],\n",
       "        [False],\n",
       "        [False],\n",
       "        [False],\n",
       "        [False],\n",
       "        [False],\n",
       "        [False],\n",
       "        [False],\n",
       "        [False],\n",
       "        [False],\n",
       "        [False],\n",
       "        [False],\n",
       "        [False],\n",
       "        [False],\n",
       "        [False],\n",
       "        [False],\n",
       "        [False],\n",
       "        [False],\n",
       "        [False],\n",
       "        [False],\n",
       "        [False],\n",
       "        [False],\n",
       "        [False],\n",
       "        [False],\n",
       "        [False],\n",
       "        [False],\n",
       "        [False],\n",
       "        [False],\n",
       "        [False],\n",
       "        [False],\n",
       "        [False],\n",
       "        [False],\n",
       "        [False],\n",
       "        [False],\n",
       "        [False],\n",
       "        [False],\n",
       "        [False],\n",
       "        [False],\n",
       "        [False],\n",
       "        [False],\n",
       "        [False],\n",
       "        [False],\n",
       "        [False],\n",
       "        [False],\n",
       "        [False],\n",
       "        [False],\n",
       "        [False],\n",
       "        [False],\n",
       "        [False],\n",
       "        [False],\n",
       "        [False],\n",
       "        [False],\n",
       "        [False],\n",
       "        [False],\n",
       "        [False],\n",
       "        [False],\n",
       "        [False],\n",
       "        [False],\n",
       "        [False],\n",
       "        [False],\n",
       "        [False],\n",
       "        [False],\n",
       "        [False],\n",
       "        [False],\n",
       "        [False],\n",
       "        [False],\n",
       "        [False],\n",
       "        [False],\n",
       "        [False],\n",
       "        [False],\n",
       "        [False],\n",
       "        [False],\n",
       "        [False],\n",
       "        [False],\n",
       "        [False],\n",
       "        [False],\n",
       "        [False],\n",
       "        [False],\n",
       "        [False],\n",
       "        [False],\n",
       "        [False]],\n",
       "  fill_value=1e+20)"
      ]
     },
     "execution_count": 32,
     "metadata": {},
     "output_type": "execute_result"
    }
   ],
   "source": [
    "X[-100:]"
   ]
  },
  {
   "cell_type": "code",
   "execution_count": 33,
   "id": "e9fb7c64",
   "metadata": {},
   "outputs": [
    {
     "data": {
      "text/plain": [
       "0.14190722995107954"
      ]
     },
     "execution_count": 33,
     "metadata": {},
     "output_type": "execute_result"
    }
   ],
   "source": [
    "scaled_x.min()"
   ]
  },
  {
   "cell_type": "code",
   "execution_count": 34,
   "id": "62263b44",
   "metadata": {
    "scrolled": true
   },
   "outputs": [
    {
     "data": {
      "image/png": "[encoded data removed]",
      "text/plain": [
       "<Figure size 432x288 with 1 Axes>"
      ]
     },
     "metadata": {
      "needs_background": "light"
     },
     "output_type": "display_data"
    }
   ],
   "source": [
    "plt.plot(scaled_x)\n",
    "plt.show()"
   ]
  },
  {
   "cell_type": "code",
   "execution_count": 35,
   "id": "b335c59c",
   "metadata": {},
   "outputs": [
    {
     "data": {
      "text/plain": [
       "array([[3260.736625  ],\n",
       "       [2895.90976167],\n",
       "       [2388.84682667],\n",
       "       ...,\n",
       "       [5227.78737833],\n",
       "       [4687.74900167],\n",
       "       [4531.19255333]])"
      ]
     },
     "execution_count": 35,
     "metadata": {},
     "output_type": "execute_result"
    }
   ],
   "source": [
    "scaled_x*maxX-minX"
   ]
  },
  {
   "cell_type": "code",
   "execution_count": 36,
   "id": "843c1dfd",
   "metadata": {},
   "outputs": [],
   "source": [
    "scaled_X = ma.zeros(X.shape)\n",
    "scaled_X[~X.mask[:,0]] = scaled_x\n",
    "scaled_X[X.mask] = ma.masked\n"
   ]
  },
  {
   "cell_type": "code",
   "execution_count": 37,
   "id": "4aeaf7e1",
   "metadata": {},
   "outputs": [],
   "source": [
    "import h5py"
   ]
  },
  {
   "cell_type": "code",
   "execution_count": 38,
   "id": "f6c6486f",
   "metadata": {},
   "outputs": [],
   "source": [
    "f = h5py.File(\"benalua_processed_data.h5\",\"w\")\n",
    "v_ = f.create_dataset(\"raw_values\",shape=Values.shape,dtype=\"float\")\n",
    "v_[...] = Values\n",
    "\n",
    "x_ = f.create_dataset(\"scaled_x\",shape=scaled_X.shape,dtype=\"float\")\n",
    "x_[...] = scaled_X\n",
    "\n",
    "minx_ = f.create_dataset(\"minX\",shape=(1,),dtype=\"float\")\n",
    "minx_[...] = minX\n",
    "\n",
    "maxx_ = f.create_dataset(\"maxX\",shape=(1,),dtype=\"float\")\n",
    "maxx_[...] = maxX\n",
    "\n",
    "\n",
    "x_mask = f.create_dataset(\"x_mask\",shape=scaled_X.shape,dtype=\"Bool\")\n",
    "x_mask[...] = scaled_X.mask\n",
    "\n",
    "f.close()"
   ]
  },
  {
   "cell_type": "code",
   "execution_count": 39,
   "id": "178d929a",
   "metadata": {},
   "outputs": [],
   "source": [
    "f = h5py.File(\"benalua_processed_data.h5\",\"r\")\n",
    "scaled_X_ = ma.array(f[\"scaled_x\"])\n",
    "scaled_X_.mask = ma.array(f[\"x_mask\"])\n",
    "f.close()"
   ]
  },
  {
   "cell_type": "code",
   "execution_count": 40,
   "id": "59cc7a11",
   "metadata": {},
   "outputs": [],
   "source": [
    "import matplotlib.pyplot as plt"
   ]
  },
  {
   "cell_type": "code",
   "execution_count": 41,
   "id": "f50584c7",
   "metadata": {},
   "outputs": [
    {
     "data": {
      "image/png": "[encoded data removed]",
      "text/plain": [
       "<Figure size 432x288 with 1 Axes>"
      ]
     },
     "metadata": {
      "needs_background": "light"
     },
     "output_type": "display_data"
    }
   ],
   "source": [
    "plt.plot(scaled_X_[:500])\n",
    "plt.plot(scaled_X[:500])\n",
    "plt.show()"
   ]
  },
  {
   "cell_type": "code",
   "execution_count": 1,
   "id": "6c1b8fd5",
   "metadata": {},
   "outputs": [],
   "source": [
    "import re #python regular expression matching module\n",
    "script = re.sub(r'# In\\[.*\\]:\\n','',open('1.0-DataPreparation.py').read())\n",
    "with open('1.0-DataPreparationScript.py','w') as fh:\n",
    "    fh.write(script)"
   ]
  },
  {
   "cell_type": "code",
   "execution_count": null,
   "id": "e06b8f37",
   "metadata": {},
   "outputs": [],
   "source": []
  },
  {
   "cell_type": "code",
   "execution_count": null,
   "id": "3021a34f",
   "metadata": {},
   "outputs": [],
   "source": []
  }
 ],
 "metadata": {
  "kernelspec": {
   "display_name": "Python 3",
   "language": "python",
   "name": "python3"
  },
  "language_info": {
   "codemirror_mode": {
    "name": "ipython",
    "version": 3
   },
   "file_extension": ".py",
   "mimetype": "text/x-python",
   "name": "python",
   "nbconvert_exporter": "python",
   "pygments_lexer": "ipython3",
   "version": "3.8.10"
  }
 },
 "nbformat": 4,
 "nbformat_minor": 5
}
