{
 "cells": [
  {
   "cell_type": "code",
   "execution_count": 1,
   "id": "338a6a79",
   "metadata": {},
   "outputs": [],
   "source": [
    "import numpy as np \n",
    "import pandas as pd \n",
    "import tensorflow as tf\n",
    "from sklearn.preprocessing import MinMaxScaler\n",
    "from tensorflow.keras.models import Sequential\n",
    "from tensorflow.keras.layers import Dense, LSTM, Dropout, TimeDistributed, Masking\n",
    "from tensorflow.keras.optimizers import Adam\n",
    "import h5py\n",
    "import matplotlib.pyplot as plt\n",
    "import numpy.ma as ma"
   ]
  },
  {
   "cell_type": "code",
   "execution_count": 2,
   "id": "2e14c036",
   "metadata": {},
   "outputs": [
    {
     "data": {
      "text/plain": [
       "<Figure size 8000x6400 with 0 Axes>"
      ]
     },
     "execution_count": 2,
     "metadata": {},
     "output_type": "execute_result"
    },
    {
     "data": {
      "text/plain": [
       "<Figure size 8000x6400 with 0 Axes>"
      ]
     },
     "metadata": {},
     "output_type": "display_data"
    }
   ],
   "source": [
    "from matplotlib.pyplot import figure\n",
    "plt.rcParams[\"figure.figsize\"] = (20,12)\n",
    "figure(figsize=(100, 80), dpi=80)"
   ]
  },
  {
   "cell_type": "code",
   "execution_count": 3,
   "id": "4e728408",
   "metadata": {},
   "outputs": [],
   "source": [
    "tf.random.set_seed(12345)"
   ]
  },
  {
   "cell_type": "code",
   "execution_count": 4,
   "id": "970358f4",
   "metadata": {},
   "outputs": [],
   "source": [
    "physical_devices = tf.config.list_physical_devices('GPU')\n",
    "tf.config.experimental.set_memory_growth(physical_devices[0], enable=True)"
   ]
  },
  {
   "cell_type": "code",
   "execution_count": 7,
   "id": "f8c99b36",
   "metadata": {},
   "outputs": [],
   "source": [
    "f = h5py.File(\"C:/Users/Utilizador/Desktop/WorkinServer/AutoBus/autobuses_processed_data.h5\",\"r\")\n",
    "scaled_X = ma.array(f[\"scaled_x\"])\n",
    "scaled_X.mask = ma.array(f[\"x_mask\"])\n",
    "minX = np.array(f[\"minX\"])\n",
    "maxX = np.array(f[\"maxX\"])\n",
    "f.close()"
   ]
  },
  {
   "cell_type": "code",
   "execution_count": 16,
   "id": "4c9496c3",
   "metadata": {},
   "outputs": [],
   "source": [
    "def Dataset(train, timesteps):\n",
    "    X_train = ma.array([train[t:t+timesteps] for t in range(0,len(train)-timesteps)])\n",
    "    y_train = train[timesteps:, :]\n",
    "    return X_train, y_train\n",
    "\n",
    "train_X_data = []\n",
    "train_Y_data = []\n",
    "\n",
    "[train_X_data, train_Y_data]=Dataset(scaled_X, 24)"
   ]
  },
  {
   "cell_type": "code",
   "execution_count": 22,
   "id": "9a5e371a",
   "metadata": {},
   "outputs": [],
   "source": [
    "from tensorflow.keras.callbacks import EarlyStopping\n",
    "early_stopping = EarlyStopping()"
   ]
  },
  {
   "cell_type": "code",
   "execution_count": 23,
   "id": "c06ab685",
   "metadata": {},
   "outputs": [],
   "source": [
    "early_stopping = EarlyStopping(monitor = 'val_loss', patience=12, min_delta=0.00001, mode='min')"
   ]
  },
  {
   "cell_type": "code",
   "execution_count": 24,
   "id": "1e50f838",
   "metadata": {},
   "outputs": [],
   "source": [
    "def LSTM_function(NCells, timesteps, num_features, dropout, NBEpochs, Batchsize, validationSplit, earlystopping):\n",
    "    model = Sequential()\n",
    "    model.add(Masking(mask_value=0., input_shape=(timesteps, num_features)))\n",
    "    model.add(LSTM(1, activation = 'tanh', input_shape = (timesteps, num_features), return_sequences=True))\n",
    "    model.add(Dropout(dropout))\n",
    "    model.add(LSTM(NCells))\n",
    "    model.add(Dropout(dropout))\n",
    "    model.add(Dense(1))\n",
    "    model.compile(loss = 'mse', optimizer='adam')\n",
    "    X_ = ma.filled(train_X_data,0)\n",
    "    Y_ = ma.filled(train_Y_data,0)\n",
    "    MODEL = model.fit(X_, Y_, epochs = NBEpochs, batch_size = Batchsize,\n",
    "                      validation_split = validationSplit, shuffle = False,\n",
    "                      callbacks=[earlystopping])\n",
    "    return model, MODEL"
   ]
  },
  {
   "cell_type": "code",
   "execution_count": 27,
   "id": "f05e5f11",
   "metadata": {},
   "outputs": [
    {
     "name": "stdout",
     "output_type": "stream",
     "text": [
      "Epoch 1/200\n",
      "130/130 [==============================] - 12s 45ms/step - loss: 0.0238 - val_loss: 0.0154\n",
      "Epoch 2/200\n",
      "130/130 [==============================] - 4s 28ms/step - loss: 0.0126 - val_loss: 0.0118\n",
      "Epoch 3/200\n",
      "130/130 [==============================] - 4s 28ms/step - loss: 0.0102 - val_loss: 0.0087\n",
      "Epoch 4/200\n",
      "130/130 [==============================] - 4s 28ms/step - loss: 0.0076 - val_loss: 0.0055\n",
      "Epoch 5/200\n",
      "130/130 [==============================] - 4s 28ms/step - loss: 0.0053 - val_loss: 0.0051\n",
      "Epoch 6/200\n",
      "130/130 [==============================] - 4s 28ms/step - loss: 0.0047 - val_loss: 0.0049\n",
      "Epoch 7/200\n",
      "130/130 [==============================] - 4s 28ms/step - loss: 0.0044 - val_loss: 0.0040\n",
      "Epoch 8/200\n",
      "130/130 [==============================] - 4s 28ms/step - loss: 0.0041 - val_loss: 0.0035\n",
      "Epoch 9/200\n",
      "130/130 [==============================] - 4s 29ms/step - loss: 0.0039 - val_loss: 0.0032\n",
      "Epoch 10/200\n",
      "130/130 [==============================] - 4s 28ms/step - loss: 0.0037 - val_loss: 0.0028\n",
      "Epoch 11/200\n",
      "130/130 [==============================] - 4s 28ms/step - loss: 0.0036 - val_loss: 0.0027\n",
      "Epoch 12/200\n",
      "130/130 [==============================] - 4s 29ms/step - loss: 0.0035 - val_loss: 0.0025\n",
      "Epoch 13/200\n",
      "130/130 [==============================] - 4s 29ms/step - loss: 0.0034 - val_loss: 0.0025\n",
      "Epoch 14/200\n",
      "130/130 [==============================] - 4s 28ms/step - loss: 0.0034 - val_loss: 0.0024\n",
      "Epoch 15/200\n",
      "130/130 [==============================] - 4s 32ms/step - loss: 0.0032 - val_loss: 0.0023\n",
      "Epoch 16/200\n",
      "130/130 [==============================] - 4s 32ms/step - loss: 0.0031 - val_loss: 0.0024\n",
      "Epoch 17/200\n",
      "130/130 [==============================] - 4s 31ms/step - loss: 0.0031 - val_loss: 0.0023\n",
      "Epoch 18/200\n",
      "130/130 [==============================] - 4s 34ms/step - loss: 0.0030 - val_loss: 0.0024\n",
      "Epoch 19/200\n",
      "130/130 [==============================] - 4s 31ms/step - loss: 0.0029 - val_loss: 0.0022\n",
      "Epoch 20/200\n",
      "130/130 [==============================] - 4s 29ms/step - loss: 0.0029 - val_loss: 0.0021\n",
      "Epoch 21/200\n",
      "130/130 [==============================] - 4s 29ms/step - loss: 0.0028 - val_loss: 0.0022\n",
      "Epoch 22/200\n",
      "130/130 [==============================] - 4s 28ms/step - loss: 0.0028 - val_loss: 0.0020\n",
      "Epoch 23/200\n",
      "130/130 [==============================] - 4s 28ms/step - loss: 0.0027 - val_loss: 0.0022\n",
      "Epoch 24/200\n",
      "130/130 [==============================] - 4s 29ms/step - loss: 0.0027 - val_loss: 0.0020\n",
      "Epoch 25/200\n",
      "130/130 [==============================] - 4s 28ms/step - loss: 0.0027 - val_loss: 0.0018\n",
      "Epoch 26/200\n",
      "130/130 [==============================] - 4s 28ms/step - loss: 0.0026 - val_loss: 0.0021\n",
      "Epoch 27/200\n",
      "130/130 [==============================] - 4s 28ms/step - loss: 0.0026 - val_loss: 0.0020\n",
      "Epoch 28/200\n",
      "130/130 [==============================] - 4s 28ms/step - loss: 0.0025 - val_loss: 0.0018\n",
      "Epoch 29/200\n",
      "130/130 [==============================] - 4s 28ms/step - loss: 0.0025 - val_loss: 0.0017\n",
      "Epoch 30/200\n",
      "130/130 [==============================] - 4s 28ms/step - loss: 0.0024 - val_loss: 0.0017\n",
      "Epoch 31/200\n",
      "130/130 [==============================] - 4s 28ms/step - loss: 0.0024 - val_loss: 0.0017\n",
      "Epoch 32/200\n",
      "130/130 [==============================] - 4s 28ms/step - loss: 0.0023 - val_loss: 0.0017\n",
      "Epoch 33/200\n",
      "130/130 [==============================] - 4s 28ms/step - loss: 0.0023 - val_loss: 0.0017\n",
      "Epoch 34/200\n",
      "130/130 [==============================] - 4s 28ms/step - loss: 0.0023 - val_loss: 0.0016\n",
      "Epoch 35/200\n",
      "130/130 [==============================] - 4s 28ms/step - loss: 0.0022 - val_loss: 0.0016\n",
      "Epoch 36/200\n",
      "130/130 [==============================] - 4s 28ms/step - loss: 0.0022 - val_loss: 0.0015\n",
      "Epoch 37/200\n",
      "130/130 [==============================] - 4s 28ms/step - loss: 0.0022 - val_loss: 0.0014\n",
      "Epoch 38/200\n",
      "130/130 [==============================] - 4s 28ms/step - loss: 0.0021 - val_loss: 0.0015\n",
      "Epoch 39/200\n",
      "130/130 [==============================] - 4s 29ms/step - loss: 0.0021 - val_loss: 0.0015\n",
      "Epoch 40/200\n",
      "130/130 [==============================] - 4s 29ms/step - loss: 0.0021 - val_loss: 0.0015\n",
      "Epoch 41/200\n",
      "130/130 [==============================] - 4s 29ms/step - loss: 0.0021 - val_loss: 0.0015\n",
      "Epoch 42/200\n",
      "130/130 [==============================] - 4s 28ms/step - loss: 0.0020 - val_loss: 0.0014\n",
      "Epoch 43/200\n",
      "130/130 [==============================] - 4s 28ms/step - loss: 0.0020 - val_loss: 0.0014\n",
      "Epoch 44/200\n",
      "130/130 [==============================] - 4s 28ms/step - loss: 0.0020 - val_loss: 0.0014\n",
      "Epoch 45/200\n",
      "130/130 [==============================] - 4s 28ms/step - loss: 0.0020 - val_loss: 0.0015\n",
      "Epoch 46/200\n",
      "130/130 [==============================] - 4s 30ms/step - loss: 0.0020 - val_loss: 0.0013\n",
      "Epoch 47/200\n",
      "130/130 [==============================] - 4s 32ms/step - loss: 0.0019 - val_loss: 0.0013\n",
      "Epoch 48/200\n",
      "130/130 [==============================] - 4s 29ms/step - loss: 0.0019 - val_loss: 0.0013\n",
      "Epoch 49/200\n",
      "130/130 [==============================] - 4s 28ms/step - loss: 0.0019 - val_loss: 0.0014\n",
      "Epoch 50/200\n",
      "130/130 [==============================] - 4s 28ms/step - loss: 0.0019 - val_loss: 0.0016\n",
      "Epoch 51/200\n",
      "130/130 [==============================] - 4s 28ms/step - loss: 0.0018 - val_loss: 0.0013\n",
      "Epoch 52/200\n",
      "130/130 [==============================] - 4s 28ms/step - loss: 0.0019 - val_loss: 0.0012\n",
      "Epoch 53/200\n",
      "130/130 [==============================] - 4s 28ms/step - loss: 0.0019 - val_loss: 0.0013\n",
      "Epoch 54/200\n",
      "130/130 [==============================] - 4s 28ms/step - loss: 0.0018 - val_loss: 0.0013\n",
      "Epoch 55/200\n",
      "130/130 [==============================] - 4s 28ms/step - loss: 0.0018 - val_loss: 0.0012\n",
      "Epoch 56/200\n",
      "130/130 [==============================] - 4s 28ms/step - loss: 0.0018 - val_loss: 0.0013\n",
      "Epoch 57/200\n",
      "130/130 [==============================] - 4s 28ms/step - loss: 0.0018 - val_loss: 0.0013\n",
      "Epoch 58/200\n",
      "130/130 [==============================] - 4s 28ms/step - loss: 0.0018 - val_loss: 0.0012\n",
      "Epoch 59/200\n",
      "130/130 [==============================] - 4s 28ms/step - loss: 0.0018 - val_loss: 0.0012\n",
      "Epoch 60/200\n",
      "130/130 [==============================] - 4s 28ms/step - loss: 0.0017 - val_loss: 0.0013\n",
      "Epoch 61/200\n",
      "130/130 [==============================] - 4s 28ms/step - loss: 0.0018 - val_loss: 0.0012\n",
      "Epoch 62/200\n",
      "130/130 [==============================] - 4s 29ms/step - loss: 0.0018 - val_loss: 0.0012\n",
      "Epoch 63/200\n",
      "130/130 [==============================] - 4s 29ms/step - loss: 0.0017 - val_loss: 0.0013\n",
      "Epoch 64/200\n",
      "130/130 [==============================] - 4s 28ms/step - loss: 0.0017 - val_loss: 0.0013\n",
      "Epoch 65/200\n",
      "130/130 [==============================] - 4s 28ms/step - loss: 0.0017 - val_loss: 0.0012\n",
      "Epoch 66/200\n",
      "130/130 [==============================] - 4s 28ms/step - loss: 0.0017 - val_loss: 0.0014\n",
      "Epoch 67/200\n",
      "130/130 [==============================] - 4s 28ms/step - loss: 0.0017 - val_loss: 0.0013\n",
      "Epoch 68/200\n",
      "130/130 [==============================] - 4s 28ms/step - loss: 0.0017 - val_loss: 0.0013\n",
      "Epoch 69/200\n",
      "130/130 [==============================] - 4s 29ms/step - loss: 0.0017 - val_loss: 0.0013\n",
      "Epoch 70/200\n",
      "130/130 [==============================] - 4s 28ms/step - loss: 0.0017 - val_loss: 0.0012\n",
      "Epoch 71/200\n",
      "130/130 [==============================] - 4s 29ms/step - loss: 0.0017 - val_loss: 0.0014\n",
      "Epoch 72/200\n",
      "130/130 [==============================] - 4s 28ms/step - loss: 0.0016 - val_loss: 0.0014\n",
      "Epoch 73/200\n",
      "130/130 [==============================] - 4s 28ms/step - loss: 0.0017 - val_loss: 0.0012\n",
      "Epoch 74/200\n",
      "130/130 [==============================] - 4s 28ms/step - loss: 0.0016 - val_loss: 0.0011\n",
      "Epoch 75/200\n",
      "130/130 [==============================] - 4s 28ms/step - loss: 0.0016 - val_loss: 0.0012\n",
      "Epoch 76/200\n",
      "130/130 [==============================] - 4s 28ms/step - loss: 0.0016 - val_loss: 0.0012\n",
      "Epoch 77/200\n",
      "130/130 [==============================] - 4s 28ms/step - loss: 0.0016 - val_loss: 0.0011\n",
      "Epoch 78/200\n",
      "130/130 [==============================] - 4s 28ms/step - loss: 0.0016 - val_loss: 0.0012\n",
      "Epoch 79/200\n",
      "130/130 [==============================] - 4s 28ms/step - loss: 0.0016 - val_loss: 0.0011\n",
      "Epoch 80/200\n"
     ]
    },
    {
     "name": "stdout",
     "output_type": "stream",
     "text": [
      "130/130 [==============================] - 4s 28ms/step - loss: 0.0016 - val_loss: 0.0011\n",
      "Epoch 81/200\n",
      "130/130 [==============================] - 4s 27ms/step - loss: 0.0016 - val_loss: 0.0012\n",
      "Epoch 82/200\n",
      "130/130 [==============================] - 4s 28ms/step - loss: 0.0016 - val_loss: 0.0012\n",
      "Epoch 83/200\n",
      "130/130 [==============================] - 4s 28ms/step - loss: 0.0016 - val_loss: 0.0013\n",
      "Epoch 84/200\n",
      "130/130 [==============================] - 4s 28ms/step - loss: 0.0016 - val_loss: 0.0011\n",
      "Epoch 85/200\n",
      "130/130 [==============================] - 4s 28ms/step - loss: 0.0016 - val_loss: 0.0012\n",
      "Epoch 86/200\n",
      "130/130 [==============================] - 4s 28ms/step - loss: 0.0016 - val_loss: 0.0011\n"
     ]
    }
   ],
   "source": [
    "df_train = []\n",
    "df_validation = []\n",
    "\n",
    "[model, MODEL] = LSTM_function(64,np.shape(train_X_data)[1], 1, 0.1, 200, 128, 0.2, early_stopping)\n",
    "df_train.append(MODEL.history['loss'])\n",
    "df_validation.append(MODEL.history['val_loss'])"
   ]
  },
  {
   "cell_type": "code",
   "execution_count": 30,
   "id": "90390d53",
   "metadata": {},
   "outputs": [],
   "source": [
    "model.save('/home/costa/JoaoModelsForAlicante/AutoBus/models/AutobusModel.h5')"
   ]
  },
  {
   "cell_type": "code",
   "execution_count": 123,
   "id": "bdc7ccc1",
   "metadata": {},
   "outputs": [
    {
     "data": {
      "text/plain": [
       "(20760, 24, 1)"
      ]
     },
     "execution_count": 123,
     "metadata": {},
     "output_type": "execute_result"
    }
   ],
   "source": [
    "train_X_data.shape"
   ]
  },
  {
   "cell_type": "code",
   "execution_count": 124,
   "id": "59b96d80",
   "metadata": {},
   "outputs": [
    {
     "data": {
      "text/plain": [
       "(20784, 1)"
      ]
     },
     "execution_count": 124,
     "metadata": {},
     "output_type": "execute_result"
    }
   ],
   "source": [
    "scaled_X.shape"
   ]
  },
  {
   "cell_type": "code",
   "execution_count": 149,
   "id": "7223a4fb",
   "metadata": {},
   "outputs": [],
   "source": [
    "inputs = scaled_X[len(scaled_X) - len(test_df) - timesteps:]"
   ]
  },
  {
   "cell_type": "code",
   "execution_count": 150,
   "id": "dda17644",
   "metadata": {},
   "outputs": [],
   "source": [
    "inputs = inputs.reshape(-1,1)"
   ]
  },
  {
   "cell_type": "code",
   "execution_count": 151,
   "id": "ff0b998b",
   "metadata": {},
   "outputs": [
    {
     "data": {
      "text/plain": [
       "(5220, 1)"
      ]
     },
     "execution_count": 151,
     "metadata": {},
     "output_type": "execute_result"
    }
   ],
   "source": [
    "inputs.shape"
   ]
  },
  {
   "cell_type": "code",
   "execution_count": 188,
   "id": "4e55d5ed",
   "metadata": {},
   "outputs": [],
   "source": [
    "X_test = []"
   ]
  },
  {
   "cell_type": "code",
   "execution_count": 189,
   "id": "31152254",
   "metadata": {},
   "outputs": [],
   "source": [
    "for i in range(24, 96):\n",
    "    X_test.append(inputs[i-timesteps:i,0])"
   ]
  },
  {
   "cell_type": "code",
   "execution_count": 190,
   "id": "ea9d0838",
   "metadata": {},
   "outputs": [],
   "source": [
    "X_test = np.array(X_test)"
   ]
  },
  {
   "cell_type": "code",
   "execution_count": 191,
   "id": "b70c167b",
   "metadata": {},
   "outputs": [
    {
     "data": {
      "text/plain": [
       "(72, 24)"
      ]
     },
     "execution_count": 191,
     "metadata": {},
     "output_type": "execute_result"
    }
   ],
   "source": [
    "X_test.shape"
   ]
  },
  {
   "cell_type": "code",
   "execution_count": 192,
   "id": "befbbf7a",
   "metadata": {},
   "outputs": [],
   "source": [
    "X_test = np.reshape(X_test, (X_test.shape[0], X_test.shape[1], 1))"
   ]
  },
  {
   "cell_type": "code",
   "execution_count": 193,
   "id": "cb3bfe58",
   "metadata": {},
   "outputs": [
    {
     "data": {
      "text/plain": [
       "(72, 24, 1)"
      ]
     },
     "execution_count": 193,
     "metadata": {},
     "output_type": "execute_result"
    }
   ],
   "source": [
    "X_test.shape"
   ]
  },
  {
   "cell_type": "code",
   "execution_count": 194,
   "id": "799e31e0",
   "metadata": {},
   "outputs": [],
   "source": [
    "predicted_demand = model.predict(X_test)"
   ]
  },
  {
   "cell_type": "code",
   "execution_count": 195,
   "id": "8bd76bb6",
   "metadata": {},
   "outputs": [],
   "source": [
    "def inverse_scaler(scaled_x,minX,maxX):\n",
    "    return scaled_x*maxX-minX"
   ]
  },
  {
   "cell_type": "code",
   "execution_count": 196,
   "id": "bb6871ed",
   "metadata": {},
   "outputs": [
    {
     "data": {
      "image/png": "[encoded data removed]",
      "text/plain": [
       "<Figure size 1440x864 with 1 Axes>"
      ]
     },
     "metadata": {
      "needs_background": "light"
     },
     "output_type": "display_data"
    }
   ],
   "source": [
    "plt.plot(inverse_scaler(predicted_demand, minX, maxX), label = 'Forecast')\n",
    "plt.legend(loc = 'best')\n",
    "plt.xlabel('Time Delays (K)')\n",
    "plt.ylabel('Flow (L/h)')\n",
    "plt.savefig('prediction.jpg')"
   ]
  },
  {
   "cell_type": "code",
   "execution_count": null,
   "id": "c9c1f838",
   "metadata": {},
   "outputs": [],
   "source": []
  }
 ],
 "metadata": {
  "kernelspec": {
   "display_name": "Python 3",
   "language": "python",
   "name": "python3"
  },
  "language_info": {
   "codemirror_mode": {
    "name": "ipython",
    "version": 3
   },
   "file_extension": ".py",
   "mimetype": "text/x-python",
   "name": "python",
   "nbconvert_exporter": "python",
   "pygments_lexer": "ipython3",
   "version": "3.9.5"
  }
 },
 "nbformat": 4,
 "nbformat_minor": 5
}
