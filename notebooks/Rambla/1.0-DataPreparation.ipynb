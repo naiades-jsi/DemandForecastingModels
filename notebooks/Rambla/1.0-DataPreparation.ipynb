{
 "cells": [
  {
   "cell_type": "code",
   "execution_count": 1,
   "id": "3471271d",
   "metadata": {},
   "outputs": [],
   "source": [
    "import numpy as np \n",
    "import pandas as pd \n",
    "import tensorflow as tf\n",
    "import datetime\n",
    "from sklearn.preprocessing import MinMaxScaler, StandardScaler, RobustScaler\n",
    "from tensorflow.keras.models import Sequential\n",
    "from tensorflow.keras.layers import Dense, LSTM, Dropout, RepeatVector, TimeDistributed\n",
    "from tensorflow.keras.optimizers import Adam\n",
    "import matplotlib.pyplot as plt"
   ]
  },
  {
   "cell_type": "code",
   "execution_count": 2,
   "id": "365bc5dc",
   "metadata": {},
   "outputs": [],
   "source": [
    "tf.random.set_seed(12345)"
   ]
  },
  {
   "cell_type": "code",
   "execution_count": 3,
   "id": "25c20349",
   "metadata": {
    "scrolled": true
   },
   "outputs": [],
   "source": [
    "df = pd.read_csv('alicante_Rambla_Flow.csv')"
   ]
  },
  {
   "cell_type": "code",
   "execution_count": 4,
   "id": "f02b5029",
   "metadata": {},
   "outputs": [
    {
     "data": {
      "text/html": [
       "<div>\n",
       "<style scoped>\n",
       "    .dataframe tbody tr th:only-of-type {\n",
       "        vertical-align: middle;\n",
       "    }\n",
       "\n",
       "    .dataframe tbody tr th {\n",
       "        vertical-align: top;\n",
       "    }\n",
       "\n",
       "    .dataframe thead th {\n",
       "        text-align: right;\n",
       "    }\n",
       "</style>\n",
       "<table border=\"1\" class=\"dataframe\">\n",
       "  <thead>\n",
       "    <tr style=\"text-align: right;\">\n",
       "      <th></th>\n",
       "      <th>time</th>\n",
       "      <th>value</th>\n",
       "    </tr>\n",
       "  </thead>\n",
       "  <tbody>\n",
       "    <tr>\n",
       "      <th>0</th>\n",
       "      <td>1.588284e+09</td>\n",
       "      <td>2708.3328</td>\n",
       "    </tr>\n",
       "    <tr>\n",
       "      <th>1</th>\n",
       "      <td>1.588284e+09</td>\n",
       "      <td>2708.3328</td>\n",
       "    </tr>\n",
       "    <tr>\n",
       "      <th>2</th>\n",
       "      <td>1.588284e+09</td>\n",
       "      <td>2708.3328</td>\n",
       "    </tr>\n",
       "    <tr>\n",
       "      <th>3</th>\n",
       "      <td>1.588284e+09</td>\n",
       "      <td>2770.8335</td>\n",
       "    </tr>\n",
       "    <tr>\n",
       "      <th>4</th>\n",
       "      <td>1.588284e+09</td>\n",
       "      <td>2770.8335</td>\n",
       "    </tr>\n",
       "    <tr>\n",
       "      <th>...</th>\n",
       "      <td>...</td>\n",
       "      <td>...</td>\n",
       "    </tr>\n",
       "    <tr>\n",
       "      <th>1233949</th>\n",
       "      <td>1.625695e+09</td>\n",
       "      <td>6395.8320</td>\n",
       "    </tr>\n",
       "    <tr>\n",
       "      <th>1233950</th>\n",
       "      <td>1.625695e+09</td>\n",
       "      <td>6249.9995</td>\n",
       "    </tr>\n",
       "    <tr>\n",
       "      <th>1233951</th>\n",
       "      <td>1.625695e+09</td>\n",
       "      <td>6052.0835</td>\n",
       "    </tr>\n",
       "    <tr>\n",
       "      <th>1233952</th>\n",
       "      <td>1.625695e+09</td>\n",
       "      <td>6239.5825</td>\n",
       "    </tr>\n",
       "    <tr>\n",
       "      <th>1233953</th>\n",
       "      <td>1.625695e+09</td>\n",
       "      <td>6312.5005</td>\n",
       "    </tr>\n",
       "  </tbody>\n",
       "</table>\n",
       "<p>1233954 rows × 2 columns</p>\n",
       "</div>"
      ],
      "text/plain": [
       "                 time      value\n",
       "0        1.588284e+09  2708.3328\n",
       "1        1.588284e+09  2708.3328\n",
       "2        1.588284e+09  2708.3328\n",
       "3        1.588284e+09  2770.8335\n",
       "4        1.588284e+09  2770.8335\n",
       "...               ...        ...\n",
       "1233949  1.625695e+09  6395.8320\n",
       "1233950  1.625695e+09  6249.9995\n",
       "1233951  1.625695e+09  6052.0835\n",
       "1233952  1.625695e+09  6239.5825\n",
       "1233953  1.625695e+09  6312.5005\n",
       "\n",
       "[1233954 rows x 2 columns]"
      ]
     },
     "execution_count": 4,
     "metadata": {},
     "output_type": "execute_result"
    }
   ],
   "source": [
    "df"
   ]
  },
  {
   "cell_type": "code",
   "execution_count": 5,
   "id": "23a08c5d",
   "metadata": {},
   "outputs": [],
   "source": [
    "df = df.drop_duplicates(subset = 'time', keep='first')"
   ]
  },
  {
   "cell_type": "code",
   "execution_count": 6,
   "id": "8e4cf4c3",
   "metadata": {},
   "outputs": [],
   "source": [
    "df = df.reset_index(drop=True)"
   ]
  },
  {
   "cell_type": "code",
   "execution_count": 7,
   "id": "95f378b6",
   "metadata": {},
   "outputs": [],
   "source": [
    "Time = []\n",
    "\n",
    "for i in range(0, len(df)):\n",
    "    Time.append(datetime.datetime.fromtimestamp(df['time'][i]).strftime('%Y-%m-%d %H:%M:%S'))"
   ]
  },
  {
   "cell_type": "code",
   "execution_count": 8,
   "id": "be625096",
   "metadata": {},
   "outputs": [],
   "source": [
    "df['time'] = Time"
   ]
  },
  {
   "cell_type": "code",
   "execution_count": 9,
   "id": "f4c6026c",
   "metadata": {},
   "outputs": [
    {
     "data": {
      "text/plain": [
       "0"
      ]
     },
     "execution_count": 9,
     "metadata": {},
     "output_type": "execute_result"
    }
   ],
   "source": [
    "df['value'].isnull().sum()"
   ]
  },
  {
   "cell_type": "code",
   "execution_count": 10,
   "id": "6f2f5632",
   "metadata": {},
   "outputs": [
    {
     "data": {
      "text/plain": [
       "Index(['time', 'value'], dtype='object')"
      ]
     },
     "execution_count": 10,
     "metadata": {},
     "output_type": "execute_result"
    }
   ],
   "source": [
    "df.columns"
   ]
  },
  {
   "cell_type": "code",
   "execution_count": 11,
   "id": "39be31c3",
   "metadata": {},
   "outputs": [
    {
     "data": {
      "text/plain": [
       "0          2020-04-30 22:00:06\n",
       "1          2020-04-30 22:00:36\n",
       "2          2020-04-30 22:01:05\n",
       "3          2020-04-30 22:01:34\n",
       "4          2020-04-30 22:02:02\n",
       "                  ...         \n",
       "1191956    2021-07-07 21:57:03\n",
       "1191957    2021-07-07 21:57:35\n",
       "1191958    2021-07-07 21:58:06\n",
       "1191959    2021-07-07 21:58:37\n",
       "1191960    2021-07-07 21:59:08\n",
       "Name: time, Length: 1191961, dtype: object"
      ]
     },
     "execution_count": 11,
     "metadata": {},
     "output_type": "execute_result"
    }
   ],
   "source": [
    "df['time']"
   ]
  },
  {
   "cell_type": "code",
   "execution_count": 12,
   "id": "69cbd6cc",
   "metadata": {},
   "outputs": [],
   "source": [
    "df['time'] = pd.to_datetime(df['time'])\n",
    "df1 = df.set_index('time')\n",
    "Min_summary = df1.resample('30T').mean()"
   ]
  },
  {
   "cell_type": "code",
   "execution_count": 13,
   "id": "bae17b7c",
   "metadata": {},
   "outputs": [
    {
     "data": {
      "text/html": [
       "<div>\n",
       "<style scoped>\n",
       "    .dataframe tbody tr th:only-of-type {\n",
       "        vertical-align: middle;\n",
       "    }\n",
       "\n",
       "    .dataframe tbody tr th {\n",
       "        vertical-align: top;\n",
       "    }\n",
       "\n",
       "    .dataframe thead th {\n",
       "        text-align: right;\n",
       "    }\n",
       "</style>\n",
       "<table border=\"1\" class=\"dataframe\">\n",
       "  <thead>\n",
       "    <tr style=\"text-align: right;\">\n",
       "      <th></th>\n",
       "      <th>value</th>\n",
       "    </tr>\n",
       "    <tr>\n",
       "      <th>time</th>\n",
       "      <th></th>\n",
       "    </tr>\n",
       "  </thead>\n",
       "  <tbody>\n",
       "    <tr>\n",
       "      <th>2020-04-30 22:00:00</th>\n",
       "      <td>2472.395785</td>\n",
       "    </tr>\n",
       "    <tr>\n",
       "      <th>2020-04-30 22:30:00</th>\n",
       "      <td>2321.857254</td>\n",
       "    </tr>\n",
       "    <tr>\n",
       "      <th>2020-04-30 23:00:00</th>\n",
       "      <td>2695.621305</td>\n",
       "    </tr>\n",
       "    <tr>\n",
       "      <th>2020-04-30 23:30:00</th>\n",
       "      <td>2827.330439</td>\n",
       "    </tr>\n",
       "    <tr>\n",
       "      <th>2020-05-01 00:00:00</th>\n",
       "      <td>3503.541510</td>\n",
       "    </tr>\n",
       "    <tr>\n",
       "      <th>...</th>\n",
       "      <td>...</td>\n",
       "    </tr>\n",
       "    <tr>\n",
       "      <th>2021-07-07 19:30:00</th>\n",
       "      <td>6248.139732</td>\n",
       "    </tr>\n",
       "    <tr>\n",
       "      <th>2021-07-07 20:00:00</th>\n",
       "      <td>6294.456732</td>\n",
       "    </tr>\n",
       "    <tr>\n",
       "      <th>2021-07-07 20:30:00</th>\n",
       "      <td>6649.670904</td>\n",
       "    </tr>\n",
       "    <tr>\n",
       "      <th>2021-07-07 21:00:00</th>\n",
       "      <td>6250.182623</td>\n",
       "    </tr>\n",
       "    <tr>\n",
       "      <th>2021-07-07 21:30:00</th>\n",
       "      <td>6339.657482</td>\n",
       "    </tr>\n",
       "  </tbody>\n",
       "</table>\n",
       "<p>20784 rows × 1 columns</p>\n",
       "</div>"
      ],
      "text/plain": [
       "                           value\n",
       "time                            \n",
       "2020-04-30 22:00:00  2472.395785\n",
       "2020-04-30 22:30:00  2321.857254\n",
       "2020-04-30 23:00:00  2695.621305\n",
       "2020-04-30 23:30:00  2827.330439\n",
       "2020-05-01 00:00:00  3503.541510\n",
       "...                          ...\n",
       "2021-07-07 19:30:00  6248.139732\n",
       "2021-07-07 20:00:00  6294.456732\n",
       "2021-07-07 20:30:00  6649.670904\n",
       "2021-07-07 21:00:00  6250.182623\n",
       "2021-07-07 21:30:00  6339.657482\n",
       "\n",
       "[20784 rows x 1 columns]"
      ]
     },
     "execution_count": 13,
     "metadata": {},
     "output_type": "execute_result"
    }
   ],
   "source": [
    "Min_summary"
   ]
  },
  {
   "cell_type": "code",
   "execution_count": 14,
   "id": "133609e0",
   "metadata": {},
   "outputs": [],
   "source": [
    "index = np.arange(len(Min_summary))"
   ]
  },
  {
   "cell_type": "code",
   "execution_count": 15,
   "id": "9807dc8c",
   "metadata": {},
   "outputs": [],
   "source": [
    "df = pd.DataFrame({\n",
    "    'Time':Min_summary.index,\n",
    "    'Values':Min_summary['value']\n",
    "})"
   ]
  },
  {
   "cell_type": "code",
   "execution_count": 16,
   "id": "d4956237",
   "metadata": {},
   "outputs": [],
   "source": [
    "df.index = index"
   ]
  },
  {
   "cell_type": "code",
   "execution_count": 17,
   "id": "54291db9",
   "metadata": {},
   "outputs": [
    {
     "data": {
      "text/html": [
       "<div>\n",
       "<style scoped>\n",
       "    .dataframe tbody tr th:only-of-type {\n",
       "        vertical-align: middle;\n",
       "    }\n",
       "\n",
       "    .dataframe tbody tr th {\n",
       "        vertical-align: top;\n",
       "    }\n",
       "\n",
       "    .dataframe thead th {\n",
       "        text-align: right;\n",
       "    }\n",
       "</style>\n",
       "<table border=\"1\" class=\"dataframe\">\n",
       "  <thead>\n",
       "    <tr style=\"text-align: right;\">\n",
       "      <th></th>\n",
       "      <th>Time</th>\n",
       "      <th>Values</th>\n",
       "    </tr>\n",
       "  </thead>\n",
       "  <tbody>\n",
       "    <tr>\n",
       "      <th>0</th>\n",
       "      <td>2020-04-30 22:00:00</td>\n",
       "      <td>2472.395785</td>\n",
       "    </tr>\n",
       "    <tr>\n",
       "      <th>1</th>\n",
       "      <td>2020-04-30 22:30:00</td>\n",
       "      <td>2321.857254</td>\n",
       "    </tr>\n",
       "    <tr>\n",
       "      <th>2</th>\n",
       "      <td>2020-04-30 23:00:00</td>\n",
       "      <td>2695.621305</td>\n",
       "    </tr>\n",
       "    <tr>\n",
       "      <th>3</th>\n",
       "      <td>2020-04-30 23:30:00</td>\n",
       "      <td>2827.330439</td>\n",
       "    </tr>\n",
       "    <tr>\n",
       "      <th>4</th>\n",
       "      <td>2020-05-01 00:00:00</td>\n",
       "      <td>3503.541510</td>\n",
       "    </tr>\n",
       "    <tr>\n",
       "      <th>...</th>\n",
       "      <td>...</td>\n",
       "      <td>...</td>\n",
       "    </tr>\n",
       "    <tr>\n",
       "      <th>20779</th>\n",
       "      <td>2021-07-07 19:30:00</td>\n",
       "      <td>6248.139732</td>\n",
       "    </tr>\n",
       "    <tr>\n",
       "      <th>20780</th>\n",
       "      <td>2021-07-07 20:00:00</td>\n",
       "      <td>6294.456732</td>\n",
       "    </tr>\n",
       "    <tr>\n",
       "      <th>20781</th>\n",
       "      <td>2021-07-07 20:30:00</td>\n",
       "      <td>6649.670904</td>\n",
       "    </tr>\n",
       "    <tr>\n",
       "      <th>20782</th>\n",
       "      <td>2021-07-07 21:00:00</td>\n",
       "      <td>6250.182623</td>\n",
       "    </tr>\n",
       "    <tr>\n",
       "      <th>20783</th>\n",
       "      <td>2021-07-07 21:30:00</td>\n",
       "      <td>6339.657482</td>\n",
       "    </tr>\n",
       "  </tbody>\n",
       "</table>\n",
       "<p>20784 rows × 2 columns</p>\n",
       "</div>"
      ],
      "text/plain": [
       "                     Time       Values\n",
       "0     2020-04-30 22:00:00  2472.395785\n",
       "1     2020-04-30 22:30:00  2321.857254\n",
       "2     2020-04-30 23:00:00  2695.621305\n",
       "3     2020-04-30 23:30:00  2827.330439\n",
       "4     2020-05-01 00:00:00  3503.541510\n",
       "...                   ...          ...\n",
       "20779 2021-07-07 19:30:00  6248.139732\n",
       "20780 2021-07-07 20:00:00  6294.456732\n",
       "20781 2021-07-07 20:30:00  6649.670904\n",
       "20782 2021-07-07 21:00:00  6250.182623\n",
       "20783 2021-07-07 21:30:00  6339.657482\n",
       "\n",
       "[20784 rows x 2 columns]"
      ]
     },
     "execution_count": 17,
     "metadata": {},
     "output_type": "execute_result"
    }
   ],
   "source": [
    "df"
   ]
  },
  {
   "cell_type": "code",
   "execution_count": 18,
   "id": "c2590496",
   "metadata": {},
   "outputs": [],
   "source": [
    "df.to_csv('data_rambla.csv')"
   ]
  },
  {
   "cell_type": "code",
   "execution_count": 19,
   "id": "902c919f",
   "metadata": {},
   "outputs": [
    {
     "data": {
      "text/plain": [
       "67"
      ]
     },
     "execution_count": 19,
     "metadata": {},
     "output_type": "execute_result"
    }
   ],
   "source": [
    "df['Values'].isnull().sum()"
   ]
  },
  {
   "cell_type": "code",
   "execution_count": 20,
   "id": "47f49795",
   "metadata": {},
   "outputs": [],
   "source": [
    "Values = df['Values'].values"
   ]
  },
  {
   "cell_type": "code",
   "execution_count": 21,
   "id": "5d67a101",
   "metadata": {},
   "outputs": [
    {
     "data": {
      "text/plain": [
       "(20784,)"
      ]
     },
     "execution_count": 21,
     "metadata": {},
     "output_type": "execute_result"
    }
   ],
   "source": [
    "Values.shape"
   ]
  },
  {
   "cell_type": "code",
   "execution_count": 22,
   "id": "8ff318e2",
   "metadata": {},
   "outputs": [],
   "source": [
    "import numpy.ma as ma"
   ]
  },
  {
   "cell_type": "code",
   "execution_count": 23,
   "id": "2bd9529a",
   "metadata": {},
   "outputs": [],
   "source": [
    "X = ma.masked_invalid(Values).reshape(-1,1)\n",
    "X[X==0]=ma.masked"
   ]
  },
  {
   "cell_type": "code",
   "execution_count": 24,
   "id": "cc29db17",
   "metadata": {},
   "outputs": [
    {
     "data": {
      "text/plain": [
       "43.74996"
      ]
     },
     "execution_count": 24,
     "metadata": {},
     "output_type": "execute_result"
    }
   ],
   "source": [
    "X.min()"
   ]
  },
  {
   "cell_type": "code",
   "execution_count": 25,
   "id": "c28548c6",
   "metadata": {},
   "outputs": [],
   "source": [
    "from sklearn.preprocessing import MinMaxScaler\n",
    "# Function for Scaler Application\n",
    "def Scaler(X):\n",
    "    #scaler = MinMaxScaler()\n",
    "    # Fit Scaler\n",
    "    #scaler_X = scaler.fit(X)\n",
    "    # Transform Data\n",
    "    #X_ = scaler_X.transform(X)\n",
    "    minX = X.min()\n",
    "    X+=minX\n",
    "    maxX = X.max()\n",
    "    X = X/maxX\n",
    "    return minX,maxX,X"
   ]
  },
  {
   "cell_type": "code",
   "execution_count": 26,
   "id": "86b5d13f",
   "metadata": {},
   "outputs": [],
   "source": [
    "minX,maxX,scaled_x = Scaler(ma.compress_rows(X))"
   ]
  },
  {
   "cell_type": "code",
   "execution_count": 27,
   "id": "4c555e7a",
   "metadata": {
    "scrolled": true
   },
   "outputs": [
    {
     "data": {
      "text/plain": [
       "1.0"
      ]
     },
     "execution_count": 27,
     "metadata": {},
     "output_type": "execute_result"
    }
   ],
   "source": [
    "scaled_x.max()"
   ]
  },
  {
   "cell_type": "code",
   "execution_count": 28,
   "id": "ae37c96c",
   "metadata": {},
   "outputs": [
    {
     "data": {
      "text/plain": [
       "masked_array(\n",
       "  data=[[6105.0801228070195],\n",
       "        [5743.117446428571],\n",
       "        [6328.919423728814],\n",
       "        [5857.2733157894745],\n",
       "        [4972.404757894737],\n",
       "        [4011.7423509090913],\n",
       "        [3257.9021827586207],\n",
       "        [2620.7217375],\n",
       "        [3468.377807142857],\n",
       "        [4136.0543326530615],\n",
       "        [4550.803835087719],\n",
       "        [3840.9720044444443],\n",
       "        [4770.195469387755],\n",
       "        [4263.888828571429],\n",
       "        [3699.3462843137268],\n",
       "        [3486.778730769231],\n",
       "        [3999.787293877551],\n",
       "        [3930.031316981132],\n",
       "        [4243.117510714286],\n",
       "        [4699.195824561404],\n",
       "        [5997.126362068969],\n",
       "        [7459.410767241381],\n",
       "        [7954.12999122807],\n",
       "        [8260.416613207546],\n",
       "        [8675.98671929825],\n",
       "        [8684.675076271184],\n",
       "        [9347.987288135593],\n",
       "        [8949.013149122806],\n",
       "        [8987.99425423729],\n",
       "        [9358.227135593219],\n",
       "        [10242.99551724138],\n",
       "        [8933.296622807016],\n",
       "        [9315.148237288138],\n",
       "        [8522.507366071428],\n",
       "        [9353.069877192982],\n",
       "        [9098.135824561405],\n",
       "        [7416.666552631578],\n",
       "        [6182.196781818181],\n",
       "        [5592.978222222219],\n",
       "        [6215.157732758621],\n",
       "        [6268.181554545453],\n",
       "        [6302.083209090911],\n",
       "        [6693.59246226415],\n",
       "        [7211.074535087722],\n",
       "        [6788.925228070175],\n",
       "        [7158.015440677966],\n",
       "        [6134.300339285712],\n",
       "        [6361.111043859648],\n",
       "        [5760.769686440677],\n",
       "        [5911.278543103449],\n",
       "        [5718.570189655174],\n",
       "        [5852.400906779662],\n",
       "        [5221.803103448276],\n",
       "        [3994.9775125],\n",
       "        [3103.460308474577],\n",
       "        [2744.5267457627115],\n",
       "        [2399.4252155172408],\n",
       "        [2433.6418555555565],\n",
       "        [2451.515018181818],\n",
       "        [2456.3300326923077],\n",
       "        [2827.6514363636365],\n",
       "        [2477.9164659999997],\n",
       "        [2696.6144678571422],\n",
       "        [2112.878807272727],\n",
       "        [2429.597606896552],\n",
       "        [2936.9516807017553],\n",
       "        [3715.084722222223],\n",
       "        [4793.4026814814815],\n",
       "        [6961.074421052629],\n",
       "        [7132.00420689655],\n",
       "        [7818.965413793104],\n",
       "        [8031.435874999998],\n",
       "        [7868.2289666666675],\n",
       "        [7017.42076724138],\n",
       "        [7175.255728070174],\n",
       "        [7816.271439655171],\n",
       "        [7285.270271929826],\n",
       "        [7054.201737288137],\n",
       "        [7026.315666666668],\n",
       "        [7176.377],\n",
       "        [7004.310181034486],\n",
       "        [7335.308749999999],\n",
       "        [7020.6566101694925],\n",
       "        [6951.800694915256],\n",
       "        [6983.403805084748],\n",
       "        [6341.8076355932235],\n",
       "        [6322.198017241378],\n",
       "        [6348.958294642858],\n",
       "        [6571.479775862069],\n",
       "        [6389.188120689657],\n",
       "        [6318.247103448277],\n",
       "        [6858.004184210527],\n",
       "        [7255.826135593219],\n",
       "        [6892.420818965516],\n",
       "        [6872.351466101694],\n",
       "        [6248.139732142859],\n",
       "        [6294.456732142856],\n",
       "        [6649.670903508772],\n",
       "        [6250.1826228070195],\n",
       "        [6339.657482142857]],\n",
       "  mask=[[False],\n",
       "        [False],\n",
       "        [False],\n",
       "        [False],\n",
       "        [False],\n",
       "        [False],\n",
       "        [False],\n",
       "        [False],\n",
       "        [False],\n",
       "        [False],\n",
       "        [False],\n",
       "        [False],\n",
       "        [False],\n",
       "        [False],\n",
       "        [False],\n",
       "        [False],\n",
       "        [False],\n",
       "        [False],\n",
       "        [False],\n",
       "        [False],\n",
       "        [False],\n",
       "        [False],\n",
       "        [False],\n",
       "        [False],\n",
       "        [False],\n",
       "        [False],\n",
       "        [False],\n",
       "        [False],\n",
       "        [False],\n",
       "        [False],\n",
       "        [False],\n",
       "        [False],\n",
       "        [False],\n",
       "        [False],\n",
       "        [False],\n",
       "        [False],\n",
       "        [False],\n",
       "        [False],\n",
       "        [False],\n",
       "        [False],\n",
       "        [False],\n",
       "        [False],\n",
       "        [False],\n",
       "        [False],\n",
       "        [False],\n",
       "        [False],\n",
       "        [False],\n",
       "        [False],\n",
       "        [False],\n",
       "        [False],\n",
       "        [False],\n",
       "        [False],\n",
       "        [False],\n",
       "        [False],\n",
       "        [False],\n",
       "        [False],\n",
       "        [False],\n",
       "        [False],\n",
       "        [False],\n",
       "        [False],\n",
       "        [False],\n",
       "        [False],\n",
       "        [False],\n",
       "        [False],\n",
       "        [False],\n",
       "        [False],\n",
       "        [False],\n",
       "        [False],\n",
       "        [False],\n",
       "        [False],\n",
       "        [False],\n",
       "        [False],\n",
       "        [False],\n",
       "        [False],\n",
       "        [False],\n",
       "        [False],\n",
       "        [False],\n",
       "        [False],\n",
       "        [False],\n",
       "        [False],\n",
       "        [False],\n",
       "        [False],\n",
       "        [False],\n",
       "        [False],\n",
       "        [False],\n",
       "        [False],\n",
       "        [False],\n",
       "        [False],\n",
       "        [False],\n",
       "        [False],\n",
       "        [False],\n",
       "        [False],\n",
       "        [False],\n",
       "        [False],\n",
       "        [False],\n",
       "        [False],\n",
       "        [False],\n",
       "        [False],\n",
       "        [False],\n",
       "        [False]],\n",
       "  fill_value=1e+20)"
      ]
     },
     "execution_count": 28,
     "metadata": {},
     "output_type": "execute_result"
    }
   ],
   "source": [
    "X[-100:]"
   ]
  },
  {
   "cell_type": "code",
   "execution_count": 29,
   "id": "e9fb7c64",
   "metadata": {},
   "outputs": [
    {
     "data": {
      "text/plain": [
       "0.00503951028661604"
      ]
     },
     "execution_count": 29,
     "metadata": {},
     "output_type": "execute_result"
    }
   ],
   "source": [
    "scaled_x.min()"
   ]
  },
  {
   "cell_type": "code",
   "execution_count": 30,
   "id": "62263b44",
   "metadata": {
    "scrolled": true
   },
   "outputs": [
    {
     "data": {
      "image/png": "[encoded data removed]",
      "text/plain": [
       "<Figure size 432x288 with 1 Axes>"
      ]
     },
     "metadata": {
      "needs_background": "light"
     },
     "output_type": "display_data"
    }
   ],
   "source": [
    "plt.plot(scaled_x)\n",
    "plt.show()"
   ]
  },
  {
   "cell_type": "code",
   "execution_count": 31,
   "id": "b335c59c",
   "metadata": {},
   "outputs": [
    {
     "data": {
      "text/plain": [
       "array([[2472.395785  ],\n",
       "       [2321.85725424],\n",
       "       [2695.62130508],\n",
       "       ...,\n",
       "       [6649.67090351],\n",
       "       [6250.18262281],\n",
       "       [6339.65748214]])"
      ]
     },
     "execution_count": 31,
     "metadata": {},
     "output_type": "execute_result"
    }
   ],
   "source": [
    "scaled_x*maxX-minX"
   ]
  },
  {
   "cell_type": "code",
   "execution_count": 32,
   "id": "843c1dfd",
   "metadata": {},
   "outputs": [],
   "source": [
    "scaled_X = ma.zeros(X.shape)\n",
    "scaled_X[~X.mask[:,0]] = scaled_x\n",
    "scaled_X[X.mask] = ma.masked\n"
   ]
  },
  {
   "cell_type": "code",
   "execution_count": 33,
   "id": "4aeaf7e1",
   "metadata": {},
   "outputs": [],
   "source": [
    "import h5py"
   ]
  },
  {
   "cell_type": "code",
   "execution_count": 34,
   "id": "62d4ccad",
   "metadata": {},
   "outputs": [],
   "source": [
    "np.savetxt(\"times_rambla.txt\",np.array(df.Time,dtype='u8'))\n"
   ]
  },
  {
   "cell_type": "code",
   "execution_count": 35,
   "id": "f6c6486f",
   "metadata": {},
   "outputs": [],
   "source": [
    "f = h5py.File(\"rambla_processed_data.h5\",\"w\")\n",
    "v_ = f.create_dataset(\"raw_values\",shape=Values.shape,dtype=\"float\")\n",
    "v_[...] = Values\n",
    "\n",
    "x_ = f.create_dataset(\"scaled_x\",shape=scaled_X.shape,dtype=\"float\")\n",
    "x_[...] = scaled_X\n",
    "\n",
    "minx_ = f.create_dataset(\"minX\",shape=(1,),dtype=\"float\")\n",
    "minx_[...] = minX\n",
    "\n",
    "maxx_ = f.create_dataset(\"maxX\",shape=(1,),dtype=\"float\")\n",
    "maxx_[...] = maxX\n",
    "\n",
    "\n",
    "x_mask = f.create_dataset(\"x_mask\",shape=scaled_X.shape,dtype=\"Bool\")\n",
    "x_mask[...] = scaled_X.mask\n",
    "\n",
    "f.close()"
   ]
  },
  {
   "cell_type": "code",
   "execution_count": 36,
   "id": "178d929a",
   "metadata": {},
   "outputs": [],
   "source": [
    "f = h5py.File(\"rambla_processed_data.h5\",\"r\")\n",
    "scaled_X_ = ma.array(f[\"scaled_x\"])\n",
    "scaled_X_.mask = ma.array(f[\"x_mask\"])\n",
    "f.close()"
   ]
  },
  {
   "cell_type": "code",
   "execution_count": 37,
   "id": "59cc7a11",
   "metadata": {},
   "outputs": [],
   "source": [
    "import matplotlib.pyplot as plt"
   ]
  },
  {
   "cell_type": "code",
   "execution_count": 38,
   "id": "f50584c7",
   "metadata": {},
   "outputs": [
    {
     "data": {
      "image/png": "[encoded data removed]",
      "text/plain": [
       "<Figure size 432x288 with 1 Axes>"
      ]
     },
     "metadata": {
      "needs_background": "light"
     },
     "output_type": "display_data"
    }
   ],
   "source": [
    "plt.plot(scaled_X_[:500])\n",
    "plt.plot(scaled_X[:500])\n",
    "plt.show()"
   ]
  },
  {
   "cell_type": "code",
   "execution_count": 1,
   "id": "6c1b8fd5",
   "metadata": {},
   "outputs": [],
   "source": [
    "import re #python regular expression matching module\n",
    "script = re.sub(r'# In\\[.*\\]:\\n','',open('1.0-DataPreparation.py').read())\n",
    "with open('1.0-DataPreparationScript.py','w') as fh:\n",
    "    fh.write(script)"
   ]
  },
  {
   "cell_type": "code",
   "execution_count": null,
   "id": "e06b8f37",
   "metadata": {},
   "outputs": [],
   "source": []
  },
  {
   "cell_type": "code",
   "execution_count": null,
   "id": "3021a34f",
   "metadata": {},
   "outputs": [],
   "source": []
  }
 ],
 "metadata": {
  "kernelspec": {
   "display_name": "Python 3",
   "language": "python",
   "name": "python3"
  },
  "language_info": {
   "codemirror_mode": {
    "name": "ipython",
    "version": 3
   },
   "file_extension": ".py",
   "mimetype": "text/x-python",
   "name": "python",
   "nbconvert_exporter": "python",
   "pygments_lexer": "ipython3",
   "version": "3.8.10"
  }
 },
 "nbformat": 4,
 "nbformat_minor": 5
}
