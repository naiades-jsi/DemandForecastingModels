{
 "cells": [
  {
   "cell_type": "code",
   "execution_count": null,
   "id": "f5da07c4",
   "metadata": {},
   "outputs": [],
   "source": [
    "pip install tf-nightly"
   ]
  },
  {
   "cell_type": "code",
   "execution_count": 1,
   "id": "3471271d",
   "metadata": {},
   "outputs": [
    {
     "data": {
      "text/plain": [
       "<Figure size 8000x6400 with 0 Axes>"
      ]
     },
     "execution_count": 1,
     "metadata": {},
     "output_type": "execute_result"
    },
    {
     "data": {
      "text/plain": [
       "<Figure size 8000x6400 with 0 Axes>"
      ]
     },
     "metadata": {},
     "output_type": "display_data"
    }
   ],
   "source": [
    "import numpy as np \n",
    "import pandas as pd \n",
    "import tensorflow as tf\n",
    "import datetime\n",
    "from sklearn.preprocessing import MinMaxScaler, StandardScaler, RobustScaler\n",
    "from tensorflow.keras.models import Sequential\n",
    "from tensorflow.keras.layers import Dense, LSTM, Dropout, RepeatVector, TimeDistributed\n",
    "from tensorflow.keras.optimizers import Adam\n",
    "import matplotlib.pyplot as plt\n",
    "from matplotlib.pyplot import figure\n",
    "plt.rcParams[\"figure.figsize\"] = (20,12)\n",
    "figure(figsize=(100, 80), dpi=80)"
   ]
  },
  {
   "cell_type": "code",
   "execution_count": null,
   "id": "365bc5dc",
   "metadata": {},
   "outputs": [],
   "source": [
    "tf.random.set_seed(12345)"
   ]
  },
  {
   "cell_type": "code",
   "execution_count": null,
   "id": "25c20349",
   "metadata": {
    "scrolled": true
   },
   "outputs": [],
   "source": [
    "df = pd.read_csv('alicante_Autobuses_Flow.csv')"
   ]
  },
  {
   "cell_type": "code",
   "execution_count": null,
   "id": "f02b5029",
   "metadata": {},
   "outputs": [],
   "source": [
    "df"
   ]
  },
  {
   "cell_type": "code",
   "execution_count": null,
   "id": "23a08c5d",
   "metadata": {},
   "outputs": [],
   "source": [
    "df = df.drop_duplicates(subset = 'time', keep='first')"
   ]
  },
  {
   "cell_type": "code",
   "execution_count": null,
   "id": "8e4cf4c3",
   "metadata": {},
   "outputs": [],
   "source": [
    "df = df.reset_index(drop=True)"
   ]
  },
  {
   "cell_type": "code",
   "execution_count": null,
   "id": "95f378b6",
   "metadata": {},
   "outputs": [],
   "source": [
    "Time = []\n",
    "\n",
    "for i in range(0, len(df)):\n",
    "    Time.append(datetime.datetime.fromtimestamp(df['time'][i]).strftime('%Y-%m-%d %H:%M:%S'))"
   ]
  },
  {
   "cell_type": "code",
   "execution_count": null,
   "id": "be625096",
   "metadata": {},
   "outputs": [],
   "source": [
    "df['time'] = Time"
   ]
  },
  {
   "cell_type": "code",
   "execution_count": null,
   "id": "f4c6026c",
   "metadata": {},
   "outputs": [],
   "source": [
    "df['value'].isnull().sum()"
   ]
  },
  {
   "cell_type": "code",
   "execution_count": null,
   "id": "6f2f5632",
   "metadata": {},
   "outputs": [],
   "source": [
    "df.columns = ['Time','Values']"
   ]
  },
  {
   "cell_type": "code",
   "execution_count": null,
   "id": "dd8f0fa7",
   "metadata": {},
   "outputs": [],
   "source": [
    "df"
   ]
  },
  {
   "cell_type": "code",
   "execution_count": null,
   "id": "8a267e53",
   "metadata": {},
   "outputs": [],
   "source": [
    "df['Time'] = pd.to_datetime(df['Time'])\n",
    "df1 = df.set_index('Time')\n",
    "Min_summary = df1.resample('30T').mean()"
   ]
  },
  {
   "cell_type": "code",
   "execution_count": null,
   "id": "470e45e4",
   "metadata": {},
   "outputs": [],
   "source": [
    "Min_summary"
   ]
  },
  {
   "cell_type": "code",
   "execution_count": null,
   "id": "ef1a51a8",
   "metadata": {},
   "outputs": [],
   "source": [
    "index = np.arange(len(Min_summary))"
   ]
  },
  {
   "cell_type": "code",
   "execution_count": null,
   "id": "8ba969ab",
   "metadata": {},
   "outputs": [],
   "source": [
    "df = pd.DataFrame({\n",
    "    'Time':Min_summary.index,\n",
    "    'Values':Min_summary['Values']\n",
    "})"
   ]
  },
  {
   "cell_type": "code",
   "execution_count": null,
   "id": "50af8987",
   "metadata": {},
   "outputs": [],
   "source": [
    "df.index = index"
   ]
  },
  {
   "cell_type": "code",
   "execution_count": null,
   "id": "0962fa62",
   "metadata": {},
   "outputs": [],
   "source": [
    "df"
   ]
  },
  {
   "cell_type": "code",
   "execution_count": null,
   "id": "c2590496",
   "metadata": {},
   "outputs": [],
   "source": [
    "df.to_csv('data_autobus.csv')"
   ]
  },
  {
   "cell_type": "code",
   "execution_count": null,
   "id": "295cf178",
   "metadata": {},
   "outputs": [],
   "source": [
    "df['Values'].isnull().sum()"
   ]
  },
  {
   "cell_type": "code",
   "execution_count": null,
   "id": "47f49795",
   "metadata": {},
   "outputs": [],
   "source": [
    "Values = df['Values'].values"
   ]
  },
  {
   "cell_type": "code",
   "execution_count": null,
   "id": "5d67a101",
   "metadata": {},
   "outputs": [],
   "source": [
    "Values.shape"
   ]
  },
  {
   "cell_type": "code",
   "execution_count": null,
   "id": "8ff318e2",
   "metadata": {},
   "outputs": [],
   "source": [
    "import numpy.ma as ma"
   ]
  },
  {
   "cell_type": "code",
   "execution_count": null,
   "id": "2bd9529a",
   "metadata": {},
   "outputs": [],
   "source": [
    "X = ma.masked_invalid(Values).reshape(-1,1)\n",
    "X[X==0]=ma.masked"
   ]
  },
  {
   "cell_type": "code",
   "execution_count": null,
   "id": "cc29db17",
   "metadata": {},
   "outputs": [],
   "source": [
    "X.min()"
   ]
  },
  {
   "cell_type": "code",
   "execution_count": null,
   "id": "c28548c6",
   "metadata": {},
   "outputs": [],
   "source": [
    "from sklearn.preprocessing import MinMaxScaler\n",
    "# Function for Scaler Application\n",
    "def Scaler(X):\n",
    "    #scaler = MinMaxScaler()\n",
    "    # Fit Scaler\n",
    "    #scaler_X = scaler.fit(X)\n",
    "    # Transform Data\n",
    "    #X_ = scaler_X.transform(X)\n",
    "    minX = X.min()\n",
    "    X+=minX\n",
    "    maxX = X.max()\n",
    "    X = X/maxX\n",
    "    return minX,maxX,X"
   ]
  },
  {
   "cell_type": "code",
   "execution_count": null,
   "id": "86b5d13f",
   "metadata": {},
   "outputs": [],
   "source": [
    "minX,maxX,scaled_x = Scaler(ma.compress_rows(X))"
   ]
  },
  {
   "cell_type": "code",
   "execution_count": null,
   "id": "4c555e7a",
   "metadata": {
    "scrolled": true
   },
   "outputs": [],
   "source": [
    "scaled_x.max()"
   ]
  },
  {
   "cell_type": "code",
   "execution_count": null,
   "id": "ae37c96c",
   "metadata": {},
   "outputs": [],
   "source": [
    "X[-100:]"
   ]
  },
  {
   "cell_type": "code",
   "execution_count": null,
   "id": "e9fb7c64",
   "metadata": {},
   "outputs": [],
   "source": [
    "scaled_x.min()"
   ]
  },
  {
   "cell_type": "code",
   "execution_count": null,
   "id": "db5e3674",
   "metadata": {},
   "outputs": [],
   "source": [
    "def inverse_scaler(scaled_x,minX,maxX):\n",
    "    return scaled_x*maxX-minX"
   ]
  },
  {
   "cell_type": "code",
   "execution_count": null,
   "id": "62263b44",
   "metadata": {
    "scrolled": true
   },
   "outputs": [],
   "source": [
    "plt.plot(inverse_scaler(scaled_x, minX, maxX))\n",
    "plt.xlabel('Time Delays (K)', fontsize = 20)\n",
    "plt.ylabel('Flow (L/h)', fontsize = 20)\n",
    "plt.xticks(fontsize=15)\n",
    "plt.yticks(fontsize=15)\n",
    "plt.savefig('data.jpg')\n",
    "plt.show()"
   ]
  },
  {
   "cell_type": "code",
   "execution_count": null,
   "id": "064abe9c",
   "metadata": {},
   "outputs": [],
   "source": [
    "plt.plot(inverse_scaler(scaled_x[:336], minX, maxX), label = 'Sample of Data')\n",
    "plt.legend(loc='best', fontsize=20)\n",
    "plt.xlabel('Time Delays (K)', fontsize = 30)\n",
    "plt.ylabel('Flow (L/h)', fontsize = 20)\n",
    "plt.xticks(fontsize=30)\n",
    "plt.yticks(fontsize=30)\n",
    "plt.savefig('7DaysSample.jpg')\n",
    "plt.show()"
   ]
  },
  {
   "cell_type": "code",
   "execution_count": null,
   "id": "b335c59c",
   "metadata": {},
   "outputs": [],
   "source": [
    "scaled_x*maxX-minX"
   ]
  },
  {
   "cell_type": "code",
   "execution_count": null,
   "id": "843c1dfd",
   "metadata": {},
   "outputs": [],
   "source": [
    "scaled_X = ma.zeros(X.shape)\n",
    "scaled_X[~X.mask[:,0]] = scaled_x\n",
    "scaled_X[X.mask] = ma.masked\n"
   ]
  },
  {
   "cell_type": "code",
   "execution_count": null,
   "id": "4aeaf7e1",
   "metadata": {},
   "outputs": [],
   "source": [
    "import h5py"
   ]
  },
  {
   "cell_type": "code",
   "execution_count": null,
   "id": "f6c6486f",
   "metadata": {},
   "outputs": [],
   "source": [
    "f = h5py.File(\"autobuses_processed_data.h5\",\"w\")\n",
    "v_ = f.create_dataset(\"raw_values\",shape=Values.shape,dtype=\"float\")\n",
    "v_[...] = Values\n",
    "\n",
    "x_ = f.create_dataset(\"scaled_x\",shape=scaled_X.shape,dtype=\"float\")\n",
    "x_[...] = scaled_X\n",
    "\n",
    "minx_ = f.create_dataset(\"minX\",shape=(1,),dtype=\"float\")\n",
    "minx_[...] = minX\n",
    "\n",
    "maxx_ = f.create_dataset(\"maxX\",shape=(1,),dtype=\"float\")\n",
    "maxx_[...] = maxX\n",
    "\n",
    "\n",
    "x_mask = f.create_dataset(\"x_mask\",shape=scaled_X.shape,dtype=\"Bool\")\n",
    "x_mask[...] = scaled_X.mask\n",
    "\n",
    "f.close()"
   ]
  },
  {
   "cell_type": "code",
   "execution_count": null,
   "id": "178d929a",
   "metadata": {},
   "outputs": [],
   "source": [
    "f = h5py.File(\"autobuses_processed_data.h5\",\"r\")\n",
    "scaled_X_ = ma.array(f[\"scaled_x\"])\n",
    "scaled_X_.mask = ma.array(f[\"x_mask\"])\n",
    "f.close()"
   ]
  },
  {
   "cell_type": "code",
   "execution_count": null,
   "id": "59cc7a11",
   "metadata": {},
   "outputs": [],
   "source": [
    "import matplotlib.pyplot as plt"
   ]
  },
  {
   "cell_type": "code",
   "execution_count": null,
   "id": "f50584c7",
   "metadata": {},
   "outputs": [],
   "source": [
    "plt.plot(scaled_X_[:500])\n",
    "plt.plot(scaled_X[:500])\n",
    "plt.xticks(fontsize=15)\n",
    "plt.yticks(fontsize=15)\n",
    "plt.show()"
   ]
  },
  {
   "cell_type": "code",
   "execution_count": null,
   "id": "e06b8f37",
   "metadata": {},
   "outputs": [],
   "source": []
  },
  {
   "cell_type": "code",
   "execution_count": null,
   "id": "3021a34f",
   "metadata": {},
   "outputs": [],
   "source": []
  }
 ],
 "metadata": {
  "kernelspec": {
   "display_name": "Python 3",
   "language": "python",
   "name": "python3"
  },
  "language_info": {
   "codemirror_mode": {
    "name": "ipython",
    "version": 3
   },
   "file_extension": ".py",
   "mimetype": "text/x-python",
   "name": "python",
   "nbconvert_exporter": "python",
   "pygments_lexer": "ipython3",
   "version": "3.9.5"
  }
 },
 "nbformat": 4,
 "nbformat_minor": 5
}
