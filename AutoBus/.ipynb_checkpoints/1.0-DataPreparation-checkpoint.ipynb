{
 "cells": [
  {
   "cell_type": "code",
   "execution_count": 1,
   "id": "3471271d",
   "metadata": {},
   "outputs": [],
   "source": [
    "import numpy as np \n",
    "import pandas as pd \n",
    "import tensorflow as tf\n",
    "import datetime\n",
    "from sklearn.preprocessing import MinMaxScaler, StandardScaler, RobustScaler\n",
    "from tensorflow.keras.models import Sequential\n",
    "from tensorflow.keras.layers import Dense, LSTM, Dropout, RepeatVector, TimeDistributed\n",
    "from tensorflow.keras.optimizers import Adam\n",
    "import matplotlib.pyplot as plt"
   ]
  },
  {
   "cell_type": "code",
   "execution_count": 2,
   "id": "365bc5dc",
   "metadata": {},
   "outputs": [],
   "source": [
    "tf.random.set_seed(12345)"
   ]
  },
  {
   "cell_type": "code",
   "execution_count": 3,
   "id": "25c20349",
   "metadata": {
    "scrolled": true
   },
   "outputs": [],
   "source": [
    "df = pd.read_csv('alicante_Autobuses_Flow.csv')"
   ]
  },
  {
   "cell_type": "code",
   "execution_count": 4,
   "id": "f02b5029",
   "metadata": {},
   "outputs": [
    {
     "data": {
      "text/html": [
       "<div>\n",
       "<style scoped>\n",
       "    .dataframe tbody tr th:only-of-type {\n",
       "        vertical-align: middle;\n",
       "    }\n",
       "\n",
       "    .dataframe tbody tr th {\n",
       "        vertical-align: top;\n",
       "    }\n",
       "\n",
       "    .dataframe thead th {\n",
       "        text-align: right;\n",
       "    }\n",
       "</style>\n",
       "<table border=\"1\" class=\"dataframe\">\n",
       "  <thead>\n",
       "    <tr style=\"text-align: right;\">\n",
       "      <th></th>\n",
       "      <th>time</th>\n",
       "      <th>value</th>\n",
       "    </tr>\n",
       "  </thead>\n",
       "  <tbody>\n",
       "    <tr>\n",
       "      <th>0</th>\n",
       "      <td>1.588284e+09</td>\n",
       "      <td>5709.6710</td>\n",
       "    </tr>\n",
       "    <tr>\n",
       "      <th>1</th>\n",
       "      <td>1.588284e+09</td>\n",
       "      <td>5709.6710</td>\n",
       "    </tr>\n",
       "    <tr>\n",
       "      <th>2</th>\n",
       "      <td>1.588284e+09</td>\n",
       "      <td>5709.6710</td>\n",
       "    </tr>\n",
       "    <tr>\n",
       "      <th>3</th>\n",
       "      <td>1.588284e+09</td>\n",
       "      <td>5709.6710</td>\n",
       "    </tr>\n",
       "    <tr>\n",
       "      <th>4</th>\n",
       "      <td>1.588284e+09</td>\n",
       "      <td>5709.6710</td>\n",
       "    </tr>\n",
       "    <tr>\n",
       "      <th>...</th>\n",
       "      <td>...</td>\n",
       "      <td>...</td>\n",
       "    </tr>\n",
       "    <tr>\n",
       "      <th>1271634</th>\n",
       "      <td>1.625695e+09</td>\n",
       "      <td>6332.8800</td>\n",
       "    </tr>\n",
       "    <tr>\n",
       "      <th>1271635</th>\n",
       "      <td>1.625695e+09</td>\n",
       "      <td>6106.2866</td>\n",
       "    </tr>\n",
       "    <tr>\n",
       "      <th>1271636</th>\n",
       "      <td>1.625695e+09</td>\n",
       "      <td>6923.0366</td>\n",
       "    </tr>\n",
       "    <tr>\n",
       "      <th>1271637</th>\n",
       "      <td>1.625695e+09</td>\n",
       "      <td>6936.6025</td>\n",
       "    </tr>\n",
       "    <tr>\n",
       "      <th>1271638</th>\n",
       "      <td>1.625695e+09</td>\n",
       "      <td>7050.9410</td>\n",
       "    </tr>\n",
       "  </tbody>\n",
       "</table>\n",
       "<p>1271639 rows × 2 columns</p>\n",
       "</div>"
      ],
      "text/plain": [
       "                 time      value\n",
       "0        1.588284e+09  5709.6710\n",
       "1        1.588284e+09  5709.6710\n",
       "2        1.588284e+09  5709.6710\n",
       "3        1.588284e+09  5709.6710\n",
       "4        1.588284e+09  5709.6710\n",
       "...               ...        ...\n",
       "1271634  1.625695e+09  6332.8800\n",
       "1271635  1.625695e+09  6106.2866\n",
       "1271636  1.625695e+09  6923.0366\n",
       "1271637  1.625695e+09  6936.6025\n",
       "1271638  1.625695e+09  7050.9410\n",
       "\n",
       "[1271639 rows x 2 columns]"
      ]
     },
     "execution_count": 4,
     "metadata": {},
     "output_type": "execute_result"
    }
   ],
   "source": [
    "df"
   ]
  },
  {
   "cell_type": "code",
   "execution_count": 5,
   "id": "23a08c5d",
   "metadata": {},
   "outputs": [],
   "source": [
    "df = df.drop_duplicates(subset = 'time', keep='first')"
   ]
  },
  {
   "cell_type": "code",
   "execution_count": 6,
   "id": "8e4cf4c3",
   "metadata": {},
   "outputs": [],
   "source": [
    "df = df.reset_index(drop=True)"
   ]
  },
  {
   "cell_type": "code",
   "execution_count": 7,
   "id": "95f378b6",
   "metadata": {},
   "outputs": [],
   "source": [
    "Time = []\n",
    "\n",
    "for i in range(0, len(df)):\n",
    "    Time.append(datetime.datetime.fromtimestamp(df['time'][i]).strftime('%Y-%m-%d %H:%M:%S'))"
   ]
  },
  {
   "cell_type": "code",
   "execution_count": 8,
   "id": "be625096",
   "metadata": {},
   "outputs": [],
   "source": [
    "df['time'] = Time"
   ]
  },
  {
   "cell_type": "code",
   "execution_count": 9,
   "id": "f4c6026c",
   "metadata": {},
   "outputs": [
    {
     "data": {
      "text/plain": [
       "0"
      ]
     },
     "execution_count": 9,
     "metadata": {},
     "output_type": "execute_result"
    }
   ],
   "source": [
    "df['value'].isnull().sum()"
   ]
  },
  {
   "cell_type": "code",
   "execution_count": 10,
   "id": "6f2f5632",
   "metadata": {},
   "outputs": [],
   "source": [
    "df.columns = ['Time','Values']"
   ]
  },
  {
   "cell_type": "code",
   "execution_count": 11,
   "id": "dd8f0fa7",
   "metadata": {},
   "outputs": [
    {
     "data": {
      "text/html": [
       "<div>\n",
       "<style scoped>\n",
       "    .dataframe tbody tr th:only-of-type {\n",
       "        vertical-align: middle;\n",
       "    }\n",
       "\n",
       "    .dataframe tbody tr th {\n",
       "        vertical-align: top;\n",
       "    }\n",
       "\n",
       "    .dataframe thead th {\n",
       "        text-align: right;\n",
       "    }\n",
       "</style>\n",
       "<table border=\"1\" class=\"dataframe\">\n",
       "  <thead>\n",
       "    <tr style=\"text-align: right;\">\n",
       "      <th></th>\n",
       "      <th>Time</th>\n",
       "      <th>Values</th>\n",
       "    </tr>\n",
       "  </thead>\n",
       "  <tbody>\n",
       "    <tr>\n",
       "      <th>0</th>\n",
       "      <td>2020-04-30 22:00:00</td>\n",
       "      <td>5709.6710</td>\n",
       "    </tr>\n",
       "    <tr>\n",
       "      <th>1</th>\n",
       "      <td>2020-04-30 22:00:31</td>\n",
       "      <td>5211.6226</td>\n",
       "    </tr>\n",
       "    <tr>\n",
       "      <th>2</th>\n",
       "      <td>2020-04-30 22:01:02</td>\n",
       "      <td>5062.5280</td>\n",
       "    </tr>\n",
       "    <tr>\n",
       "      <th>3</th>\n",
       "      <td>2020-04-30 22:01:32</td>\n",
       "      <td>5719.4990</td>\n",
       "    </tr>\n",
       "    <tr>\n",
       "      <th>4</th>\n",
       "      <td>2020-04-30 22:02:03</td>\n",
       "      <td>5590.1340</td>\n",
       "    </tr>\n",
       "    <tr>\n",
       "      <th>...</th>\n",
       "      <td>...</td>\n",
       "      <td>...</td>\n",
       "    </tr>\n",
       "    <tr>\n",
       "      <th>1219996</th>\n",
       "      <td>2021-07-07 21:57:02</td>\n",
       "      <td>6332.8800</td>\n",
       "    </tr>\n",
       "    <tr>\n",
       "      <th>1219997</th>\n",
       "      <td>2021-07-07 21:57:32</td>\n",
       "      <td>6106.2866</td>\n",
       "    </tr>\n",
       "    <tr>\n",
       "      <th>1219998</th>\n",
       "      <td>2021-07-07 21:58:02</td>\n",
       "      <td>6923.0366</td>\n",
       "    </tr>\n",
       "    <tr>\n",
       "      <th>1219999</th>\n",
       "      <td>2021-07-07 21:58:32</td>\n",
       "      <td>6936.6025</td>\n",
       "    </tr>\n",
       "    <tr>\n",
       "      <th>1220000</th>\n",
       "      <td>2021-07-07 21:59:02</td>\n",
       "      <td>7050.9410</td>\n",
       "    </tr>\n",
       "  </tbody>\n",
       "</table>\n",
       "<p>1220001 rows × 2 columns</p>\n",
       "</div>"
      ],
      "text/plain": [
       "                        Time     Values\n",
       "0        2020-04-30 22:00:00  5709.6710\n",
       "1        2020-04-30 22:00:31  5211.6226\n",
       "2        2020-04-30 22:01:02  5062.5280\n",
       "3        2020-04-30 22:01:32  5719.4990\n",
       "4        2020-04-30 22:02:03  5590.1340\n",
       "...                      ...        ...\n",
       "1219996  2021-07-07 21:57:02  6332.8800\n",
       "1219997  2021-07-07 21:57:32  6106.2866\n",
       "1219998  2021-07-07 21:58:02  6923.0366\n",
       "1219999  2021-07-07 21:58:32  6936.6025\n",
       "1220000  2021-07-07 21:59:02  7050.9410\n",
       "\n",
       "[1220001 rows x 2 columns]"
      ]
     },
     "execution_count": 11,
     "metadata": {},
     "output_type": "execute_result"
    }
   ],
   "source": [
    "df"
   ]
  },
  {
   "cell_type": "code",
   "execution_count": 12,
   "id": "8a267e53",
   "metadata": {},
   "outputs": [],
   "source": [
    "df['Time'] = pd.to_datetime(df['Time'])\n",
    "df1 = df.set_index('Time')\n",
    "Min_summary = df1.resample('30T').mean()"
   ]
  },
  {
   "cell_type": "code",
   "execution_count": 13,
   "id": "470e45e4",
   "metadata": {},
   "outputs": [
    {
     "data": {
      "text/html": [
       "<div>\n",
       "<style scoped>\n",
       "    .dataframe tbody tr th:only-of-type {\n",
       "        vertical-align: middle;\n",
       "    }\n",
       "\n",
       "    .dataframe tbody tr th {\n",
       "        vertical-align: top;\n",
       "    }\n",
       "\n",
       "    .dataframe thead th {\n",
       "        text-align: right;\n",
       "    }\n",
       "</style>\n",
       "<table border=\"1\" class=\"dataframe\">\n",
       "  <thead>\n",
       "    <tr style=\"text-align: right;\">\n",
       "      <th></th>\n",
       "      <th>Values</th>\n",
       "    </tr>\n",
       "    <tr>\n",
       "      <th>Time</th>\n",
       "      <th></th>\n",
       "    </tr>\n",
       "  </thead>\n",
       "  <tbody>\n",
       "    <tr>\n",
       "      <th>2020-04-30 22:00:00</th>\n",
       "      <td>5329.363053</td>\n",
       "    </tr>\n",
       "    <tr>\n",
       "      <th>2020-04-30 22:30:00</th>\n",
       "      <td>4698.188646</td>\n",
       "    </tr>\n",
       "    <tr>\n",
       "      <th>2020-04-30 23:00:00</th>\n",
       "      <td>4287.926002</td>\n",
       "    </tr>\n",
       "    <tr>\n",
       "      <th>2020-04-30 23:30:00</th>\n",
       "      <td>3266.890498</td>\n",
       "    </tr>\n",
       "    <tr>\n",
       "      <th>2020-05-01 00:00:00</th>\n",
       "      <td>3117.347702</td>\n",
       "    </tr>\n",
       "    <tr>\n",
       "      <th>...</th>\n",
       "      <td>...</td>\n",
       "    </tr>\n",
       "    <tr>\n",
       "      <th>2021-07-07 19:30:00</th>\n",
       "      <td>9135.355831</td>\n",
       "    </tr>\n",
       "    <tr>\n",
       "      <th>2021-07-07 20:00:00</th>\n",
       "      <td>7877.871636</td>\n",
       "    </tr>\n",
       "    <tr>\n",
       "      <th>2021-07-07 20:30:00</th>\n",
       "      <td>7532.304007</td>\n",
       "    </tr>\n",
       "    <tr>\n",
       "      <th>2021-07-07 21:00:00</th>\n",
       "      <td>6769.658017</td>\n",
       "    </tr>\n",
       "    <tr>\n",
       "      <th>2021-07-07 21:30:00</th>\n",
       "      <td>6984.644953</td>\n",
       "    </tr>\n",
       "  </tbody>\n",
       "</table>\n",
       "<p>20784 rows × 1 columns</p>\n",
       "</div>"
      ],
      "text/plain": [
       "                          Values\n",
       "Time                            \n",
       "2020-04-30 22:00:00  5329.363053\n",
       "2020-04-30 22:30:00  4698.188646\n",
       "2020-04-30 23:00:00  4287.926002\n",
       "2020-04-30 23:30:00  3266.890498\n",
       "2020-05-01 00:00:00  3117.347702\n",
       "...                          ...\n",
       "2021-07-07 19:30:00  9135.355831\n",
       "2021-07-07 20:00:00  7877.871636\n",
       "2021-07-07 20:30:00  7532.304007\n",
       "2021-07-07 21:00:00  6769.658017\n",
       "2021-07-07 21:30:00  6984.644953\n",
       "\n",
       "[20784 rows x 1 columns]"
      ]
     },
     "execution_count": 13,
     "metadata": {},
     "output_type": "execute_result"
    }
   ],
   "source": [
    "Min_summary"
   ]
  },
  {
   "cell_type": "code",
   "execution_count": 14,
   "id": "ef1a51a8",
   "metadata": {},
   "outputs": [],
   "source": [
    "index = np.arange(len(Min_summary))"
   ]
  },
  {
   "cell_type": "code",
   "execution_count": 15,
   "id": "8ba969ab",
   "metadata": {},
   "outputs": [],
   "source": [
    "df = pd.DataFrame({\n",
    "    'Time':Min_summary.index,\n",
    "    'Values':Min_summary['Values']\n",
    "})"
   ]
  },
  {
   "cell_type": "code",
   "execution_count": 16,
   "id": "50af8987",
   "metadata": {},
   "outputs": [],
   "source": [
    "df.index = index"
   ]
  },
  {
   "cell_type": "code",
   "execution_count": 17,
   "id": "0962fa62",
   "metadata": {},
   "outputs": [
    {
     "data": {
      "text/html": [
       "<div>\n",
       "<style scoped>\n",
       "    .dataframe tbody tr th:only-of-type {\n",
       "        vertical-align: middle;\n",
       "    }\n",
       "\n",
       "    .dataframe tbody tr th {\n",
       "        vertical-align: top;\n",
       "    }\n",
       "\n",
       "    .dataframe thead th {\n",
       "        text-align: right;\n",
       "    }\n",
       "</style>\n",
       "<table border=\"1\" class=\"dataframe\">\n",
       "  <thead>\n",
       "    <tr style=\"text-align: right;\">\n",
       "      <th></th>\n",
       "      <th>Time</th>\n",
       "      <th>Values</th>\n",
       "    </tr>\n",
       "  </thead>\n",
       "  <tbody>\n",
       "    <tr>\n",
       "      <th>0</th>\n",
       "      <td>2020-04-30 22:00:00</td>\n",
       "      <td>5329.363053</td>\n",
       "    </tr>\n",
       "    <tr>\n",
       "      <th>1</th>\n",
       "      <td>2020-04-30 22:30:00</td>\n",
       "      <td>4698.188646</td>\n",
       "    </tr>\n",
       "    <tr>\n",
       "      <th>2</th>\n",
       "      <td>2020-04-30 23:00:00</td>\n",
       "      <td>4287.926002</td>\n",
       "    </tr>\n",
       "    <tr>\n",
       "      <th>3</th>\n",
       "      <td>2020-04-30 23:30:00</td>\n",
       "      <td>3266.890498</td>\n",
       "    </tr>\n",
       "    <tr>\n",
       "      <th>4</th>\n",
       "      <td>2020-05-01 00:00:00</td>\n",
       "      <td>3117.347702</td>\n",
       "    </tr>\n",
       "    <tr>\n",
       "      <th>...</th>\n",
       "      <td>...</td>\n",
       "      <td>...</td>\n",
       "    </tr>\n",
       "    <tr>\n",
       "      <th>20779</th>\n",
       "      <td>2021-07-07 19:30:00</td>\n",
       "      <td>9135.355831</td>\n",
       "    </tr>\n",
       "    <tr>\n",
       "      <th>20780</th>\n",
       "      <td>2021-07-07 20:00:00</td>\n",
       "      <td>7877.871636</td>\n",
       "    </tr>\n",
       "    <tr>\n",
       "      <th>20781</th>\n",
       "      <td>2021-07-07 20:30:00</td>\n",
       "      <td>7532.304007</td>\n",
       "    </tr>\n",
       "    <tr>\n",
       "      <th>20782</th>\n",
       "      <td>2021-07-07 21:00:00</td>\n",
       "      <td>6769.658017</td>\n",
       "    </tr>\n",
       "    <tr>\n",
       "      <th>20783</th>\n",
       "      <td>2021-07-07 21:30:00</td>\n",
       "      <td>6984.644953</td>\n",
       "    </tr>\n",
       "  </tbody>\n",
       "</table>\n",
       "<p>20784 rows × 2 columns</p>\n",
       "</div>"
      ],
      "text/plain": [
       "                     Time       Values\n",
       "0     2020-04-30 22:00:00  5329.363053\n",
       "1     2020-04-30 22:30:00  4698.188646\n",
       "2     2020-04-30 23:00:00  4287.926002\n",
       "3     2020-04-30 23:30:00  3266.890498\n",
       "4     2020-05-01 00:00:00  3117.347702\n",
       "...                   ...          ...\n",
       "20779 2021-07-07 19:30:00  9135.355831\n",
       "20780 2021-07-07 20:00:00  7877.871636\n",
       "20781 2021-07-07 20:30:00  7532.304007\n",
       "20782 2021-07-07 21:00:00  6769.658017\n",
       "20783 2021-07-07 21:30:00  6984.644953\n",
       "\n",
       "[20784 rows x 2 columns]"
      ]
     },
     "execution_count": 17,
     "metadata": {},
     "output_type": "execute_result"
    }
   ],
   "source": [
    "df"
   ]
  },
  {
   "cell_type": "code",
   "execution_count": 18,
   "id": "c2590496",
   "metadata": {},
   "outputs": [],
   "source": [
    "df.to_csv('data_autobus.csv')"
   ]
  },
  {
   "cell_type": "code",
   "execution_count": 19,
   "id": "295cf178",
   "metadata": {},
   "outputs": [
    {
     "data": {
      "text/plain": [
       "59"
      ]
     },
     "execution_count": 19,
     "metadata": {},
     "output_type": "execute_result"
    }
   ],
   "source": [
    "df['Values'].isnull().sum()"
   ]
  },
  {
   "cell_type": "code",
   "execution_count": 20,
   "id": "47f49795",
   "metadata": {},
   "outputs": [],
   "source": [
    "Values = df['Values'].values"
   ]
  },
  {
   "cell_type": "code",
   "execution_count": 21,
   "id": "5d67a101",
   "metadata": {},
   "outputs": [
    {
     "data": {
      "text/plain": [
       "(20784,)"
      ]
     },
     "execution_count": 21,
     "metadata": {},
     "output_type": "execute_result"
    }
   ],
   "source": [
    "Values.shape"
   ]
  },
  {
   "cell_type": "code",
   "execution_count": 22,
   "id": "8ff318e2",
   "metadata": {},
   "outputs": [],
   "source": [
    "import numpy.ma as ma"
   ]
  },
  {
   "cell_type": "code",
   "execution_count": 23,
   "id": "2bd9529a",
   "metadata": {},
   "outputs": [],
   "source": [
    "X = ma.masked_invalid(Values).reshape(-1,1)\n",
    "X[X==0]=ma.masked"
   ]
  },
  {
   "cell_type": "code",
   "execution_count": 24,
   "id": "cc29db17",
   "metadata": {},
   "outputs": [
    {
     "data": {
      "text/plain": [
       "1289.815240740741"
      ]
     },
     "execution_count": 24,
     "metadata": {},
     "output_type": "execute_result"
    }
   ],
   "source": [
    "X.min()"
   ]
  },
  {
   "cell_type": "code",
   "execution_count": 25,
   "id": "c28548c6",
   "metadata": {},
   "outputs": [],
   "source": [
    "from sklearn.preprocessing import MinMaxScaler\n",
    "# Function for Scaler Application\n",
    "def Scaler(X):\n",
    "    #scaler = MinMaxScaler()\n",
    "    # Fit Scaler\n",
    "    #scaler_X = scaler.fit(X)\n",
    "    # Transform Data\n",
    "    #X_ = scaler_X.transform(X)\n",
    "    minX = X.min()\n",
    "    X+=minX\n",
    "    maxX = X.max()\n",
    "    X = X/maxX\n",
    "    return minX,maxX,X"
   ]
  },
  {
   "cell_type": "code",
   "execution_count": 26,
   "id": "86b5d13f",
   "metadata": {},
   "outputs": [],
   "source": [
    "minX,maxX,scaled_x = Scaler(ma.compress_rows(X))"
   ]
  },
  {
   "cell_type": "code",
   "execution_count": 27,
   "id": "4c555e7a",
   "metadata": {
    "scrolled": true
   },
   "outputs": [
    {
     "data": {
      "text/plain": [
       "1.0"
      ]
     },
     "execution_count": 27,
     "metadata": {},
     "output_type": "execute_result"
    }
   ],
   "source": [
    "scaled_x.max()"
   ]
  },
  {
   "cell_type": "code",
   "execution_count": 28,
   "id": "ae37c96c",
   "metadata": {},
   "outputs": [
    {
     "data": {
      "text/plain": [
       "masked_array(\n",
       "  data=[[9148.86678813559],\n",
       "        [8826.074684745763],\n",
       "        [7910.698225423726],\n",
       "        [7224.494143103446],\n",
       "        [6416.164491666669],\n",
       "        [5580.040383050848],\n",
       "        [5853.2976949152535],\n",
       "        [5291.367823728814],\n",
       "        [4535.3740206896555],\n",
       "        [3482.7297559322024],\n",
       "        [3809.1474189655173],\n",
       "        [3820.553872413793],\n",
       "        [4452.410798181818],\n",
       "        [4321.532308474577],\n",
       "        [4395.261936206896],\n",
       "        [4089.6850086206887],\n",
       "        [4631.093564406781],\n",
       "        [5678.141018644068],\n",
       "        [7873.707805084748],\n",
       "        [9553.317281355932],\n",
       "        [10486.963416949151],\n",
       "        [10662.848330508472],\n",
       "        [11232.85593220339],\n",
       "        [11163.680152542374],\n",
       "        [11084.115374999996],\n",
       "        [11408.53256779661],\n",
       "        [10782.81625423729],\n",
       "        [11112.118355932203],\n",
       "        [10097.744728813555],\n",
       "        [9804.04788135593],\n",
       "        [8846.992916949152],\n",
       "        [9078.680137288135],\n",
       "        [9150.137650847455],\n",
       "        [9393.561981355933],\n",
       "        [9580.03113559322],\n",
       "        [9569.373720338981],\n",
       "        [9103.655372881356],\n",
       "        [8093.241522033897],\n",
       "        [8235.147783050847],\n",
       "        [7950.433850847457],\n",
       "        [7298.388445762711],\n",
       "        [8110.972927118644],\n",
       "        [7943.435523728813],\n",
       "        [8195.90277118644],\n",
       "        [8267.480837288134],\n",
       "        [9157.236830508476],\n",
       "        [8660.521369491527],\n",
       "        [8842.458767796612],\n",
       "        [8730.728047457631],\n",
       "        [7861.409730508476],\n",
       "        [6950.10377966102],\n",
       "        [7814.827059322036],\n",
       "        [7202.955621666668],\n",
       "        [5840.831522033895],\n",
       "        [5970.495947457629],\n",
       "        [5027.3355796610185],\n",
       "        [4375.411344827587],\n",
       "        [2946.7455457627107],\n",
       "        [3155.961393103448],\n",
       "        [2951.862218644068],\n",
       "        [3676.682277192983],\n",
       "        [3398.0628913793107],\n",
       "        [2775.896406779662],\n",
       "        [2438.0972810344833],\n",
       "        [3019.308749152541],\n",
       "        [4840.0244999999995],\n",
       "        [6740.43888305085],\n",
       "        [8550.994483050845],\n",
       "        [10091.78533898305],\n",
       "        [10096.70116101695],\n",
       "        [9848.751686440677],\n",
       "        [10640.675220338984],\n",
       "        [10686.190800000004],\n",
       "        [10967.87821186441],\n",
       "        [11344.203830508475],\n",
       "        [11032.249101694915],\n",
       "        [10675.894118644066],\n",
       "        [10975.857855932205],\n",
       "        [10457.540355932202],\n",
       "        [9850.174576271185],\n",
       "        [9767.128677966106],\n",
       "        [9738.470767796613],\n",
       "        [10048.424271186444],\n",
       "        [9622.055142372885],\n",
       "        [9386.8274220339],\n",
       "        [8659.409503389828],\n",
       "        [7924.191128813559],\n",
       "        [7429.385044067797],\n",
       "        [8199.202389830507],\n",
       "        [8666.708345762712],\n",
       "        [9304.662379661015],\n",
       "        [8585.106800000001],\n",
       "        [8394.298452542374],\n",
       "        [8719.052247457628],\n",
       "        [8794.896132203392],\n",
       "        [9135.355830508473],\n",
       "        [7877.871635593217],\n",
       "        [7532.304006779663],\n",
       "        [6769.658016949152],\n",
       "        [6984.644953448277]],\n",
       "  mask=[[False],\n",
       "        [False],\n",
       "        [False],\n",
       "        [False],\n",
       "        [False],\n",
       "        [False],\n",
       "        [False],\n",
       "        [False],\n",
       "        [False],\n",
       "        [False],\n",
       "        [False],\n",
       "        [False],\n",
       "        [False],\n",
       "        [False],\n",
       "        [False],\n",
       "        [False],\n",
       "        [False],\n",
       "        [False],\n",
       "        [False],\n",
       "        [False],\n",
       "        [False],\n",
       "        [False],\n",
       "        [False],\n",
       "        [False],\n",
       "        [False],\n",
       "        [False],\n",
       "        [False],\n",
       "        [False],\n",
       "        [False],\n",
       "        [False],\n",
       "        [False],\n",
       "        [False],\n",
       "        [False],\n",
       "        [False],\n",
       "        [False],\n",
       "        [False],\n",
       "        [False],\n",
       "        [False],\n",
       "        [False],\n",
       "        [False],\n",
       "        [False],\n",
       "        [False],\n",
       "        [False],\n",
       "        [False],\n",
       "        [False],\n",
       "        [False],\n",
       "        [False],\n",
       "        [False],\n",
       "        [False],\n",
       "        [False],\n",
       "        [False],\n",
       "        [False],\n",
       "        [False],\n",
       "        [False],\n",
       "        [False],\n",
       "        [False],\n",
       "        [False],\n",
       "        [False],\n",
       "        [False],\n",
       "        [False],\n",
       "        [False],\n",
       "        [False],\n",
       "        [False],\n",
       "        [False],\n",
       "        [False],\n",
       "        [False],\n",
       "        [False],\n",
       "        [False],\n",
       "        [False],\n",
       "        [False],\n",
       "        [False],\n",
       "        [False],\n",
       "        [False],\n",
       "        [False],\n",
       "        [False],\n",
       "        [False],\n",
       "        [False],\n",
       "        [False],\n",
       "        [False],\n",
       "        [False],\n",
       "        [False],\n",
       "        [False],\n",
       "        [False],\n",
       "        [False],\n",
       "        [False],\n",
       "        [False],\n",
       "        [False],\n",
       "        [False],\n",
       "        [False],\n",
       "        [False],\n",
       "        [False],\n",
       "        [False],\n",
       "        [False],\n",
       "        [False],\n",
       "        [False],\n",
       "        [False],\n",
       "        [False],\n",
       "        [False],\n",
       "        [False],\n",
       "        [False]],\n",
       "  fill_value=1e+20)"
      ]
     },
     "execution_count": 28,
     "metadata": {},
     "output_type": "execute_result"
    }
   ],
   "source": [
    "X[-100:]"
   ]
  },
  {
   "cell_type": "code",
   "execution_count": 29,
   "id": "e9fb7c64",
   "metadata": {},
   "outputs": [
    {
     "data": {
      "text/plain": [
       "0.11059157939725338"
      ]
     },
     "execution_count": 29,
     "metadata": {},
     "output_type": "execute_result"
    }
   ],
   "source": [
    "scaled_x.min()"
   ]
  },
  {
   "cell_type": "code",
   "execution_count": 30,
   "id": "62263b44",
   "metadata": {
    "scrolled": true
   },
   "outputs": [
    {
     "data": {
      "image/png": "[encoded data removed]",
      "text/plain": [
       "<Figure size 432x288 with 1 Axes>"
      ]
     },
     "metadata": {
      "needs_background": "light"
     },
     "output_type": "display_data"
    }
   ],
   "source": [
    "plt.plot(scaled_x)\n",
    "plt.show()"
   ]
  },
  {
   "cell_type": "code",
   "execution_count": 31,
   "id": "b335c59c",
   "metadata": {},
   "outputs": [
    {
     "data": {
      "text/plain": [
       "array([[5329.36305254],\n",
       "       [4698.18864576],\n",
       "       [4287.92600169],\n",
       "       ...,\n",
       "       [7532.30400678],\n",
       "       [6769.65801695],\n",
       "       [6984.64495345]])"
      ]
     },
     "execution_count": 31,
     "metadata": {},
     "output_type": "execute_result"
    }
   ],
   "source": [
    "scaled_x*maxX-minX"
   ]
  },
  {
   "cell_type": "code",
   "execution_count": 32,
   "id": "843c1dfd",
   "metadata": {},
   "outputs": [],
   "source": [
    "scaled_X = ma.zeros(X.shape)\n",
    "scaled_X[~X.mask[:,0]] = scaled_x\n",
    "scaled_X[X.mask] = ma.masked\n"
   ]
  },
  {
   "cell_type": "code",
   "execution_count": 33,
   "id": "4aeaf7e1",
   "metadata": {},
   "outputs": [],
   "source": [
    "import h5py"
   ]
  },
  {
   "cell_type": "code",
   "execution_count": 34,
   "id": "f6c6486f",
   "metadata": {},
   "outputs": [],
   "source": [
    "f = h5py.File(\"autobuses_processed_data.h5\",\"w\")\n",
    "v_ = f.create_dataset(\"raw_values\",shape=Values.shape,dtype=\"float\")\n",
    "v_[...] = Values\n",
    "\n",
    "x_ = f.create_dataset(\"scaled_x\",shape=scaled_X.shape,dtype=\"float\")\n",
    "x_[...] = scaled_X\n",
    "\n",
    "minx_ = f.create_dataset(\"minX\",shape=(1,),dtype=\"float\")\n",
    "minx_[...] = minX\n",
    "\n",
    "maxx_ = f.create_dataset(\"maxX\",shape=(1,),dtype=\"float\")\n",
    "maxx_[...] = maxX\n",
    "\n",
    "\n",
    "x_mask = f.create_dataset(\"x_mask\",shape=scaled_X.shape,dtype=\"Bool\")\n",
    "x_mask[...] = scaled_X.mask\n",
    "\n",
    "f.close()"
   ]
  },
  {
   "cell_type": "code",
   "execution_count": 35,
   "id": "178d929a",
   "metadata": {},
   "outputs": [],
   "source": [
    "f = h5py.File(\"autobuses_processed_data.h5\",\"r\")\n",
    "scaled_X_ = ma.array(f[\"scaled_x\"])\n",
    "scaled_X_.mask = ma.array(f[\"x_mask\"])\n",
    "f.close()"
   ]
  },
  {
   "cell_type": "code",
   "execution_count": 36,
   "id": "59cc7a11",
   "metadata": {},
   "outputs": [],
   "source": [
    "import matplotlib.pyplot as plt"
   ]
  },
  {
   "cell_type": "code",
   "execution_count": 37,
   "id": "f50584c7",
   "metadata": {},
   "outputs": [
    {
     "data": {
      "image/png": "[encoded data removed]",
      "text/plain": [
       "<Figure size 432x288 with 1 Axes>"
      ]
     },
     "metadata": {
      "needs_background": "light"
     },
     "output_type": "display_data"
    }
   ],
   "source": [
    "plt.plot(scaled_X_[:500])\n",
    "plt.plot(scaled_X[:500])\n",
    "plt.show()"
   ]
  },
  {
   "cell_type": "code",
   "execution_count": 1,
   "id": "6c1b8fd5",
   "metadata": {},
   "outputs": [],
   "source": [
    "import re #python regular expression matching module\n",
    "script = re.sub(r'# In\\[.*\\]:\\n','',open('1.0-DataPreparation.py').read())\n",
    "with open('1.0-DataPreparationScript.py','w') as fh:\n",
    "    fh.write(script)"
   ]
  },
  {
   "cell_type": "code",
   "execution_count": null,
   "id": "e06b8f37",
   "metadata": {},
   "outputs": [],
   "source": []
  },
  {
   "cell_type": "code",
   "execution_count": null,
   "id": "3021a34f",
   "metadata": {},
   "outputs": [],
   "source": []
  }
 ],
 "metadata": {
  "kernelspec": {
   "display_name": "Python 3",
   "language": "python",
   "name": "python3"
  },
  "language_info": {
   "codemirror_mode": {
    "name": "ipython",
    "version": 3
   },
   "file_extension": ".py",
   "mimetype": "text/x-python",
   "name": "python",
   "nbconvert_exporter": "python",
   "pygments_lexer": "ipython3",
   "version": "3.8.10"
  }
 },
 "nbformat": 4,
 "nbformat_minor": 5
}
